{
 "cells": [
  {
   "cell_type": "markdown",
   "metadata": {},
   "source": [
    "# Before your start:\n",
    "- Read the README.md file\n",
    "- Comment as much as you can and use the resources in the README.md file\n",
    "- Happy learning!\n"
   ]
  },
  {
   "cell_type": "code",
   "execution_count": 68,
   "metadata": {},
   "outputs": [],
   "source": [
    "#Import your libraries\n",
    "import pandas as pd\n",
    "import numpy as np"
   ]
  },
  {
   "cell_type": "markdown",
   "metadata": {},
   "source": [
    "# Challenge 1 -  Explore the Internal Dataset\n",
    "\n",
    "In this lab, we will start off by working with the wine dataset in scikit-learn. We will select the wine dataset and use a clustering algorithm to learn more about the functionalities of this library. \n",
    "\n",
    "We start off by loading the dataset using the `load_wine` function ([documentation](https://scikit-learn.org/stable/modules/generated/sklearn.datasets.load_wine.html)). In the cell below, we will import the function from scikit-learn."
   ]
  },
  {
   "cell_type": "code",
   "execution_count": 69,
   "metadata": {},
   "outputs": [],
   "source": [
    "from sklearn.datasets import load_wine"
   ]
  },
  {
   "cell_type": "markdown",
   "metadata": {},
   "source": [
    "In the cell below, use the `load_wine` function and assign the wine dataset to a variable called `wine`."
   ]
  },
  {
   "cell_type": "code",
   "execution_count": 70,
   "metadata": {},
   "outputs": [],
   "source": [
    "# Your code here:\n",
    "wine = load_wine()"
   ]
  },
  {
   "cell_type": "markdown",
   "metadata": {},
   "source": [
    "In the next step, list the keys of the variable `wine` to examine its contents. Note that the `load_wine` function does not return dataframes. It returns you a Python dictionary."
   ]
  },
  {
   "cell_type": "code",
   "execution_count": 71,
   "metadata": {},
   "outputs": [
    {
     "data": {
      "text/plain": [
       "dict_keys(['data', 'target', 'target_names', 'DESCR', 'feature_names'])"
      ]
     },
     "execution_count": 71,
     "metadata": {},
     "output_type": "execute_result"
    }
   ],
   "source": [
    "# Your code here:\n",
    "wine.keys()"
   ]
  },
  {
   "cell_type": "markdown",
   "metadata": {},
   "source": [
    "Next, list the feature names. These are the different characteristics of the wine. "
   ]
  },
  {
   "cell_type": "code",
   "execution_count": 72,
   "metadata": {},
   "outputs": [
    {
     "data": {
      "text/plain": [
       "['alcohol',\n",
       " 'malic_acid',\n",
       " 'ash',\n",
       " 'alcalinity_of_ash',\n",
       " 'magnesium',\n",
       " 'total_phenols',\n",
       " 'flavanoids',\n",
       " 'nonflavanoid_phenols',\n",
       " 'proanthocyanins',\n",
       " 'color_intensity',\n",
       " 'hue',\n",
       " 'od280/od315_of_diluted_wines',\n",
       " 'proline']"
      ]
     },
     "execution_count": 72,
     "metadata": {},
     "output_type": "execute_result"
    }
   ],
   "source": [
    "# Your code here:\n",
    "wine['feature_names']"
   ]
  },
  {
   "cell_type": "markdown",
   "metadata": {},
   "source": [
    "Print the description of the dataset in the cell below using the `DESCR` attribute of the `wine` variable.\n",
    "\n",
    "*Hint: If your output is ill-formatted by displaying linebreaks as `\\n`, it means you are not using the print function.*"
   ]
  },
  {
   "cell_type": "code",
   "execution_count": 73,
   "metadata": {},
   "outputs": [
    {
     "name": "stdout",
     "output_type": "stream",
     "text": [
      ".. _wine_dataset:\n",
      "\n",
      "Wine recognition dataset\n",
      "------------------------\n",
      "\n",
      "**Data Set Characteristics:**\n",
      "\n",
      "    :Number of Instances: 178 (50 in each of three classes)\n",
      "    :Number of Attributes: 13 numeric, predictive attributes and the class\n",
      "    :Attribute Information:\n",
      " \t\t- Alcohol\n",
      " \t\t- Malic acid\n",
      " \t\t- Ash\n",
      "\t\t- Alcalinity of ash  \n",
      " \t\t- Magnesium\n",
      "\t\t- Total phenols\n",
      " \t\t- Flavanoids\n",
      " \t\t- Nonflavanoid phenols\n",
      " \t\t- Proanthocyanins\n",
      "\t\t- Color intensity\n",
      " \t\t- Hue\n",
      " \t\t- OD280/OD315 of diluted wines\n",
      " \t\t- Proline\n",
      "\n",
      "    - class:\n",
      "            - class_0\n",
      "            - class_1\n",
      "            - class_2\n",
      "\t\t\n",
      "    :Summary Statistics:\n",
      "    \n",
      "    ============================= ==== ===== ======= =====\n",
      "                                   Min   Max   Mean     SD\n",
      "    ============================= ==== ===== ======= =====\n",
      "    Alcohol:                      11.0  14.8    13.0   0.8\n",
      "    Malic Acid:                   0.74  5.80    2.34  1.12\n",
      "    Ash:                          1.36  3.23    2.36  0.27\n",
      "    Alcalinity of Ash:            10.6  30.0    19.5   3.3\n",
      "    Magnesium:                    70.0 162.0    99.7  14.3\n",
      "    Total Phenols:                0.98  3.88    2.29  0.63\n",
      "    Flavanoids:                   0.34  5.08    2.03  1.00\n",
      "    Nonflavanoid Phenols:         0.13  0.66    0.36  0.12\n",
      "    Proanthocyanins:              0.41  3.58    1.59  0.57\n",
      "    Colour Intensity:              1.3  13.0     5.1   2.3\n",
      "    Hue:                          0.48  1.71    0.96  0.23\n",
      "    OD280/OD315 of diluted wines: 1.27  4.00    2.61  0.71\n",
      "    Proline:                       278  1680     746   315\n",
      "    ============================= ==== ===== ======= =====\n",
      "\n",
      "    :Missing Attribute Values: None\n",
      "    :Class Distribution: class_0 (59), class_1 (71), class_2 (48)\n",
      "    :Creator: R.A. Fisher\n",
      "    :Donor: Michael Marshall (MARSHALL%PLU@io.arc.nasa.gov)\n",
      "    :Date: July, 1988\n",
      "\n",
      "This is a copy of UCI ML Wine recognition datasets.\n",
      "https://archive.ics.uci.edu/ml/machine-learning-databases/wine/wine.data\n",
      "\n",
      "The data is the results of a chemical analysis of wines grown in the same\n",
      "region in Italy by three different cultivators. There are thirteen different\n",
      "measurements taken for different constituents found in the three types of\n",
      "wine.\n",
      "\n",
      "Original Owners: \n",
      "\n",
      "Forina, M. et al, PARVUS - \n",
      "An Extendible Package for Data Exploration, Classification and Correlation. \n",
      "Institute of Pharmaceutical and Food Analysis and Technologies,\n",
      "Via Brigata Salerno, 16147 Genoa, Italy.\n",
      "\n",
      "Citation:\n",
      "\n",
      "Lichman, M. (2013). UCI Machine Learning Repository\n",
      "[http://archive.ics.uci.edu/ml]. Irvine, CA: University of California,\n",
      "School of Information and Computer Science. \n",
      "\n",
      ".. topic:: References\n",
      "\n",
      "  (1) S. Aeberhard, D. Coomans and O. de Vel, \n",
      "  Comparison of Classifiers in High Dimensional Settings, \n",
      "  Tech. Rep. no. 92-02, (1992), Dept. of Computer Science and Dept. of  \n",
      "  Mathematics and Statistics, James Cook University of North Queensland. \n",
      "  (Also submitted to Technometrics). \n",
      "\n",
      "  The data was used with many others for comparing various \n",
      "  classifiers. The classes are separable, though only RDA \n",
      "  has achieved 100% correct classification. \n",
      "  (RDA : 100%, QDA 99.4%, LDA 98.9%, 1NN 96.1% (z-transformed data)) \n",
      "  (All results using the leave-one-out technique) \n",
      "\n",
      "  (2) S. Aeberhard, D. Coomans and O. de Vel, \n",
      "  \"THE CLASSIFICATION PERFORMANCE OF RDA\" \n",
      "  Tech. Rep. no. 92-01, (1992), Dept. of Computer Science and Dept. of \n",
      "  Mathematics and Statistics, James Cook University of North Queensland. \n",
      "  (Also submitted to Journal of Chemometrics).\n",
      "\n"
     ]
    }
   ],
   "source": [
    "# Your code here:\n",
    "print(wine['DESCR'])"
   ]
  },
  {
   "cell_type": "markdown",
   "metadata": {},
   "source": [
    "#### From the description, we see that all columns are numeric. We also know that there is no missing data \n",
    "\n",
    "Let's plot the alcohol content histogram. Recall that we are working with a numpy array and will need to use a matplotlib function to produce a histogram. "
   ]
  },
  {
   "cell_type": "code",
   "execution_count": 74,
   "metadata": {},
   "outputs": [],
   "source": [
    "# imports\n",
    "import matplotlib.pyplot as plt"
   ]
  },
  {
   "cell_type": "code",
   "execution_count": 75,
   "metadata": {},
   "outputs": [
    {
     "data": {
      "image/png": "[encoded data removed]",
      "text/plain": [
       "<Figure size 432x288 with 1 Axes>"
      ]
     },
     "metadata": {
      "needs_background": "light"
     },
     "output_type": "display_data"
    }
   ],
   "source": [
    "# Your code here:\n",
    "plt.hist(wine['data'][:,0])\n",
    "plt.show()"
   ]
  },
  {
   "cell_type": "markdown",
   "metadata": {},
   "source": [
    "# Challenge 2 - Clustering the Internal Dataset\n",
    "\n",
    "In this portion of the lab, we will cluster the data to find common traits between the different wines. We will use the k-means clustering algorithm to achieve this goal.\n",
    "\n",
    "#### We start by importing k-means from scikit-learn and then proceed to create 4 clusters."
   ]
  },
  {
   "cell_type": "code",
   "execution_count": 76,
   "metadata": {},
   "outputs": [],
   "source": [
    "# imports\n",
    "from sklearn.cluster import KMeans"
   ]
  },
  {
   "cell_type": "code",
   "execution_count": 77,
   "metadata": {},
   "outputs": [
    {
     "data": {
      "text/plain": [
       "array([[1.24750877e+01, 2.32526316e+00, 2.28000000e+00, 2.06368421e+01,\n",
       "        9.17192982e+01, 2.10578947e+00, 1.87140351e+00, 3.83333333e-01,\n",
       "        1.46842105e+00, 3.95210525e+00, 9.60526316e-01, 2.54438596e+00,\n",
       "        4.35578947e+02],\n",
       "       [1.34594872e+01, 2.12589744e+00, 2.39076923e+00, 1.81256410e+01,\n",
       "        1.07641026e+02, 2.59435897e+00, 2.53282051e+00, 3.03589744e-01,\n",
       "        1.80820513e+00, 5.21923077e+00, 1.00041026e+00, 2.97666667e+00,\n",
       "        9.85589744e+02],\n",
       "       [1.28700000e+01, 2.69762712e+00, 2.37932203e+00, 2.02406780e+01,\n",
       "        9.98305085e+01, 2.02762712e+00, 1.42728814e+00, 4.04237288e-01,\n",
       "        1.43491525e+00, 5.55152542e+00, 8.70508475e-01, 2.27016949e+00,\n",
       "        6.59220339e+02],\n",
       "       [1.38600000e+01, 1.79391304e+00, 2.50695652e+00, 1.70739130e+01,\n",
       "        1.06000000e+02, 2.94304348e+00, 3.11086957e+00, 2.98695652e-01,\n",
       "        1.92608696e+00, 6.26000000e+00, 1.10000000e+00, 3.03565217e+00,\n",
       "        1.33856522e+03]])"
      ]
     },
     "execution_count": 77,
     "metadata": {},
     "output_type": "execute_result"
    }
   ],
   "source": [
    "# Your code here:\n",
    "kmeans = KMeans(n_clusters=4)\n",
    "census_clusters = kmeans.fit(wine['data'])\n",
    "census_clusters.cluster_centers_"
   ]
  },
  {
   "cell_type": "markdown",
   "metadata": {},
   "source": [
    "#### Print the cluster labels."
   ]
  },
  {
   "cell_type": "code",
   "execution_count": 78,
   "metadata": {},
   "outputs": [
    {
     "data": {
      "text/plain": [
       "array([1, 1, 3, 3, 2, 3, 3, 3, 1, 1, 3, 3, 3, 1, 3, 3, 3, 1, 3, 1, 2, 2,\n",
       "       1, 1, 1, 1, 3, 3, 1, 1, 3, 3, 1, 3, 1, 1, 1, 1, 1, 2, 2, 1, 1, 2,\n",
       "       1, 1, 1, 1, 1, 3, 1, 3, 3, 3, 1, 1, 1, 3, 3, 0, 2, 0, 2, 0, 0, 2,\n",
       "       0, 0, 2, 2, 1, 0, 0, 1, 1, 0, 0, 0, 2, 0, 0, 2, 2, 0, 0, 0, 0, 2,\n",
       "       2, 2, 0, 0, 0, 0, 0, 1, 2, 0, 2, 0, 2, 2, 0, 0, 2, 0, 0, 0, 0, 2,\n",
       "       2, 0, 2, 0, 0, 0, 0, 0, 0, 2, 2, 0, 0, 0, 0, 0, 0, 0, 0, 2, 2, 0,\n",
       "       2, 2, 2, 2, 2, 0, 2, 2, 2, 2, 0, 2, 1, 1, 0, 2, 2, 2, 0, 0, 0, 2,\n",
       "       2, 2, 0, 1, 2, 2, 0, 2, 2, 2, 2, 0, 2, 2, 2, 2, 0, 0, 2, 2, 2, 1,\n",
       "       1, 2], dtype=int32)"
      ]
     },
     "execution_count": 78,
     "metadata": {},
     "output_type": "execute_result"
    }
   ],
   "source": [
    "# Your code here:\n",
    "kmeans.labels_"
   ]
  },
  {
   "cell_type": "markdown",
   "metadata": {},
   "source": [
    "#### Compute the size of each cluster. This can be done by counting the number of occurrences of each unique label in the list above.\n",
    "\n",
    "Which is the largest cluster of the 4?"
   ]
  },
  {
   "cell_type": "code",
   "execution_count": 79,
   "metadata": {},
   "outputs": [
    {
     "data": {
      "text/plain": [
       "2    59\n",
       "0    57\n",
       "1    39\n",
       "3    23\n",
       "dtype: int64"
      ]
     },
     "execution_count": 79,
     "metadata": {},
     "output_type": "execute_result"
    }
   ],
   "source": [
    "# Your code here:\n",
    "pd.Series(kmeans.labels_).value_counts()"
   ]
  },
  {
   "cell_type": "code",
   "execution_count": 80,
   "metadata": {},
   "outputs": [],
   "source": [
    "# Your answer here:\n",
    "# Cluster with label 0"
   ]
  },
  {
   "cell_type": "markdown",
   "metadata": {},
   "source": [
    "#### Inspect the shape of `wine['data']`"
   ]
  },
  {
   "cell_type": "code",
   "execution_count": 81,
   "metadata": {},
   "outputs": [
    {
     "data": {
      "text/plain": [
       "(178, 13)"
      ]
     },
     "execution_count": 81,
     "metadata": {},
     "output_type": "execute_result"
    }
   ],
   "source": [
    "# Your code here:\n",
    "wine['data'].shape"
   ]
  },
  {
   "cell_type": "markdown",
   "metadata": {},
   "source": [
    "#### Inspect the first 5 records in `wine['data']`"
   ]
  },
  {
   "cell_type": "code",
   "execution_count": 82,
   "metadata": {},
   "outputs": [
    {
     "data": {
      "text/plain": [
       "array([127., 100., 101., 113., 118., 112.,  96., 121.,  97.,  98., 105.,\n",
       "        95.,  89.,  91., 102., 112., 120., 115., 108., 116., 126., 102.,\n",
       "       101.,  95.,  96., 124.,  93.,  94., 107.,  96., 101., 106., 104.,\n",
       "       132., 110., 100., 110.,  98.,  98., 128., 117.,  90., 101., 103.,\n",
       "       107., 111., 102., 101., 103., 108.,  92.,  94., 111., 115., 118.,\n",
       "       116., 118., 102., 108.,  88., 101., 100.,  94.,  87., 104.,  98.,\n",
       "        78.,  78., 110., 151., 103.,  86.,  87., 139., 101.,  97.,  86.,\n",
       "       112., 136., 101.,  86.,  86.,  78.,  85.,  94.,  99.,  90.,  88.,\n",
       "        84.,  70.,  81.,  86.,  80.,  88.,  98., 162., 134.,  85.,  88.,\n",
       "        88.,  97.,  88.,  98.,  86.,  85.,  90.,  80.,  84.,  92.,  94.,\n",
       "       107.,  88., 103.,  88.,  84.,  85.,  86., 108.,  80.,  87.,  96.,\n",
       "       119., 102.,  86.,  82.,  85.,  86.,  92.,  88.,  80., 122., 104.,\n",
       "        98., 106.,  85.,  94.,  89.,  96.,  88., 101.,  96.,  89.,  97.,\n",
       "        92., 112., 102.,  80.,  86.,  92., 113., 123., 112., 116.,  98.,\n",
       "       103.,  93.,  89.,  97.,  98.,  89.,  88., 107., 106., 106.,  90.,\n",
       "        88., 111.,  88., 105., 112.,  96.,  86.,  91.,  95., 102., 120.,\n",
       "       120.,  96.])"
      ]
     },
     "execution_count": 82,
     "metadata": {},
     "output_type": "execute_result"
    }
   ],
   "source": [
    "# Your code here:\n",
    "wine['data'][:,4]"
   ]
  },
  {
   "cell_type": "markdown",
   "metadata": {},
   "source": [
    "You now know the data object is a 2-dimensional array in which there are 178 rows and 13 columns. Each row is a data record and each column is a feature.\n",
    "\n",
    "#### What is the average ash content for each cluster? \n",
    "\n",
    "*Hints:* \n",
    "\n",
    "* *Ash* is the 3rd column.\n",
    "\n",
    "* The data object is not a Pandas dataframe so you can't apply `pandas.DataFrame.groupby`. Instead, you can use `np.average`."
   ]
  },
  {
   "cell_type": "code",
   "execution_count": 83,
   "metadata": {},
   "outputs": [
    {
     "data": {
      "text/plain": [
       "labels\n",
       "0    2.280000\n",
       "1    2.390769\n",
       "2    2.379322\n",
       "3    2.506957\n",
       "Name: 2, dtype: float64"
      ]
     },
     "execution_count": 83,
     "metadata": {},
     "output_type": "execute_result"
    }
   ],
   "source": [
    "# Your code here:\n",
    "pd.concat([pd.DataFrame(wine['data']),pd.DataFrame(kmeans.labels_,columns=['labels'])],axis=1).groupby('labels').mean()[2]"
   ]
  },
  {
   "cell_type": "markdown",
   "metadata": {},
   "source": [
    "# Challenge 3 - Load and Explore an External Dataset\n",
    "\n",
    "We will now load an external dataset using Pandas and use scikit learn to explore the data. In this portion of the lab, we will use a [patient dataset from Kaggle](https://www.kaggle.com/miles99/patient-admission-dataset-for-learning-data-mining). "
   ]
  },
  {
   "cell_type": "code",
   "execution_count": 84,
   "metadata": {},
   "outputs": [],
   "source": [
    "patients = pd.read_csv('../patient-admission-dataset-for-learning-data-mining.csv')"
   ]
  },
  {
   "cell_type": "markdown",
   "metadata": {},
   "source": [
    "In the next cell, print the first five rows of the data using the `head()` function."
   ]
  },
  {
   "cell_type": "code",
   "execution_count": 85,
   "metadata": {},
   "outputs": [
    {
     "data": {
      "text/html": [
       "<div>\n",
       "<style scoped>\n",
       "    .dataframe tbody tr th:only-of-type {\n",
       "        vertical-align: middle;\n",
       "    }\n",
       "\n",
       "    .dataframe tbody tr th {\n",
       "        vertical-align: top;\n",
       "    }\n",
       "\n",
       "    .dataframe thead th {\n",
       "        text-align: right;\n",
       "    }\n",
       "</style>\n",
       "<table border=\"1\" class=\"dataframe\">\n",
       "  <thead>\n",
       "    <tr style=\"text-align: right;\">\n",
       "      <th></th>\n",
       "      <th>id</th>\n",
       "      <th>patient_name</th>\n",
       "      <th>patient_email</th>\n",
       "      <th>doctor_phone</th>\n",
       "      <th>patient_gender</th>\n",
       "      <th>patient_dob</th>\n",
       "      <th>patient_diabetic</th>\n",
       "      <th>patient_allergic</th>\n",
       "      <th>patient_weight_kg</th>\n",
       "      <th>patient_height_sm</th>\n",
       "      <th>patient_nhs_number</th>\n",
       "      <th>doctor_name</th>\n",
       "      <th>appointment_date</th>\n",
       "      <th>patient_show</th>\n",
       "      <th>is_regular_visit</th>\n",
       "      <th>prescribed_medicines</th>\n",
       "      <th>diagnosis</th>\n",
       "    </tr>\n",
       "  </thead>\n",
       "  <tbody>\n",
       "    <tr>\n",
       "      <th>0</th>\n",
       "      <td>1</td>\n",
       "      <td>Celestyna Dillimore</td>\n",
       "      <td>cdillimore0@dion.ne.jp</td>\n",
       "      <td>674-914-1212</td>\n",
       "      <td>Female</td>\n",
       "      <td>10/18/2018</td>\n",
       "      <td>False</td>\n",
       "      <td>True</td>\n",
       "      <td>59</td>\n",
       "      <td>176</td>\n",
       "      <td>8.200152e+09</td>\n",
       "      <td>Sarena Waliszek</td>\n",
       "      <td>5/1/2018</td>\n",
       "      <td>True</td>\n",
       "      <td>True</td>\n",
       "      <td>triamcinolone acetonide</td>\n",
       "      <td>I669</td>\n",
       "    </tr>\n",
       "    <tr>\n",
       "      <th>1</th>\n",
       "      <td>2</td>\n",
       "      <td>Meta Michieli</td>\n",
       "      <td>mmichieli1@loc.gov</td>\n",
       "      <td>172-580-3586</td>\n",
       "      <td>Female</td>\n",
       "      <td>2/8/2018</td>\n",
       "      <td>False</td>\n",
       "      <td>True</td>\n",
       "      <td>77</td>\n",
       "      <td>186</td>\n",
       "      <td>NaN</td>\n",
       "      <td>Farris Robinet</td>\n",
       "      <td>12/7/2017</td>\n",
       "      <td>True</td>\n",
       "      <td>True</td>\n",
       "      <td>NaN</td>\n",
       "      <td>NaN</td>\n",
       "    </tr>\n",
       "    <tr>\n",
       "      <th>2</th>\n",
       "      <td>3</td>\n",
       "      <td>Cordie Sancto</td>\n",
       "      <td>csancto2@cafepress.com</td>\n",
       "      <td>794-222-5085</td>\n",
       "      <td>Female</td>\n",
       "      <td>10/9/2018</td>\n",
       "      <td>True</td>\n",
       "      <td>True</td>\n",
       "      <td>90</td>\n",
       "      <td>177</td>\n",
       "      <td>6.145594e+09</td>\n",
       "      <td>Kaspar Spitaro</td>\n",
       "      <td>10/5/2018</td>\n",
       "      <td>False</td>\n",
       "      <td>False</td>\n",
       "      <td>NaN</td>\n",
       "      <td>NaN</td>\n",
       "    </tr>\n",
       "    <tr>\n",
       "      <th>3</th>\n",
       "      <td>4</td>\n",
       "      <td>Josh De Ambrosis</td>\n",
       "      <td>jde3@amazon.co.jp</td>\n",
       "      <td>856-540-5195</td>\n",
       "      <td>Male</td>\n",
       "      <td>9/10/2018</td>\n",
       "      <td>True</td>\n",
       "      <td>True</td>\n",
       "      <td>70</td>\n",
       "      <td>150</td>\n",
       "      <td>NaN</td>\n",
       "      <td>Rafferty Fowls</td>\n",
       "      <td>10/21/2018</td>\n",
       "      <td>False</td>\n",
       "      <td>True</td>\n",
       "      <td>NaN</td>\n",
       "      <td>NaN</td>\n",
       "    </tr>\n",
       "    <tr>\n",
       "      <th>4</th>\n",
       "      <td>5</td>\n",
       "      <td>Delinda Alfonsini</td>\n",
       "      <td>dalfonsini4@opensource.org</td>\n",
       "      <td>938-978-1131</td>\n",
       "      <td>Female</td>\n",
       "      <td>2/26/2018</td>\n",
       "      <td>False</td>\n",
       "      <td>True</td>\n",
       "      <td>82</td>\n",
       "      <td>140</td>\n",
       "      <td>4.804758e+08</td>\n",
       "      <td>Glenna MacNeachtain</td>\n",
       "      <td>11/15/2018</td>\n",
       "      <td>False</td>\n",
       "      <td>False</td>\n",
       "      <td>NaN</td>\n",
       "      <td>NaN</td>\n",
       "    </tr>\n",
       "  </tbody>\n",
       "</table>\n",
       "</div>"
      ],
      "text/plain": [
       "   id         patient_name               patient_email  doctor_phone  \\\n",
       "0   1  Celestyna Dillimore      cdillimore0@dion.ne.jp  674-914-1212   \n",
       "1   2        Meta Michieli          mmichieli1@loc.gov  172-580-3586   \n",
       "2   3        Cordie Sancto      csancto2@cafepress.com  794-222-5085   \n",
       "3   4     Josh De Ambrosis           jde3@amazon.co.jp  856-540-5195   \n",
       "4   5    Delinda Alfonsini  dalfonsini4@opensource.org  938-978-1131   \n",
       "\n",
       "  patient_gender patient_dob  patient_diabetic  patient_allergic  \\\n",
       "0         Female  10/18/2018             False              True   \n",
       "1         Female    2/8/2018             False              True   \n",
       "2         Female   10/9/2018              True              True   \n",
       "3           Male   9/10/2018              True              True   \n",
       "4         Female   2/26/2018             False              True   \n",
       "\n",
       "   patient_weight_kg  patient_height_sm  patient_nhs_number  \\\n",
       "0                 59                176        8.200152e+09   \n",
       "1                 77                186                 NaN   \n",
       "2                 90                177        6.145594e+09   \n",
       "3                 70                150                 NaN   \n",
       "4                 82                140        4.804758e+08   \n",
       "\n",
       "           doctor_name appointment_date  patient_show  is_regular_visit  \\\n",
       "0      Sarena Waliszek         5/1/2018          True              True   \n",
       "1       Farris Robinet        12/7/2017          True              True   \n",
       "2       Kaspar Spitaro        10/5/2018         False             False   \n",
       "3       Rafferty Fowls       10/21/2018         False              True   \n",
       "4  Glenna MacNeachtain       11/15/2018         False             False   \n",
       "\n",
       "      prescribed_medicines diagnosis  \n",
       "0  triamcinolone acetonide      I669  \n",
       "1                      NaN       NaN  \n",
       "2                      NaN       NaN  \n",
       "3                      NaN       NaN  \n",
       "4                      NaN       NaN  "
      ]
     },
     "execution_count": 85,
     "metadata": {},
     "output_type": "execute_result"
    }
   ],
   "source": [
    "# Your code here:\n",
    "patients.head()"
   ]
  },
  {
   "cell_type": "markdown",
   "metadata": {},
   "source": [
    "Next, print the column types and check which columns have been misclassified by pandas."
   ]
  },
  {
   "cell_type": "code",
   "execution_count": 86,
   "metadata": {},
   "outputs": [
    {
     "data": {
      "text/plain": [
       "id                        int64\n",
       "patient_name             object\n",
       "patient_email            object\n",
       "doctor_phone             object\n",
       "patient_gender           object\n",
       "patient_dob              object\n",
       "patient_diabetic           bool\n",
       "patient_allergic           bool\n",
       "patient_weight_kg         int64\n",
       "patient_height_sm         int64\n",
       "patient_nhs_number      float64\n",
       "doctor_name              object\n",
       "appointment_date         object\n",
       "patient_show               bool\n",
       "is_regular_visit           bool\n",
       "prescribed_medicines     object\n",
       "diagnosis                object\n",
       "dtype: object"
      ]
     },
     "execution_count": 86,
     "metadata": {},
     "output_type": "execute_result"
    }
   ],
   "source": [
    "# Your code here:\n",
    "patients.dtypes"
   ]
  },
  {
   "cell_type": "markdown",
   "metadata": {},
   "source": [
    "#### We can see that none of the date columns have been correctly classified. Also, some columns contain qualitative data that can be dropped.\n",
    "\n",
    "First, transform the `patient_dob` and `appointment_date` columns to datetime using the `pd.to_datetime` function."
   ]
  },
  {
   "cell_type": "code",
   "execution_count": 87,
   "metadata": {},
   "outputs": [],
   "source": [
    "# Your code here:\n",
    "patients['patient_dob'] = pd.to_datetime(patients['patient_dob'])\n",
    "patients['appointment_date'] = pd.to_datetime(patients['appointment_date'])"
   ]
  },
  {
   "cell_type": "markdown",
   "metadata": {},
   "source": [
    "Next, drop the `id`, `patient_name`, `patient_email`, `patient_nhs_number`, and `doctor_phone` columns. These are not quantitative columns and will not contribute to our analysis."
   ]
  },
  {
   "cell_type": "code",
   "execution_count": 88,
   "metadata": {},
   "outputs": [],
   "source": [
    "# Your code here:\n",
    "patients.drop(['id','patient_name','patient_email','patient_nhs_number','doctor_phone'],axis=1,inplace=True)"
   ]
  },
  {
   "cell_type": "markdown",
   "metadata": {},
   "source": [
    "Now we work on the missing data. Most ML algorithms will not perform as intended if there are missing data.\n",
    "\n",
    "In the cell below, count how many rows contain missing data in each column. You should see three columns contain missing data:\n",
    "\n",
    "* `doctor_name`: 58 missing data\n",
    "* `prescribed_medicines`: 488 missing data\n",
    "* `diagnosis`: 488 missing data"
   ]
  },
  {
   "cell_type": "code",
   "execution_count": 89,
   "metadata": {},
   "outputs": [
    {
     "data": {
      "text/plain": [
       "patient_gender            0\n",
       "patient_dob               0\n",
       "patient_diabetic          0\n",
       "patient_allergic          0\n",
       "patient_weight_kg         0\n",
       "patient_height_sm         0\n",
       "doctor_name              58\n",
       "appointment_date          0\n",
       "patient_show              0\n",
       "is_regular_visit          0\n",
       "prescribed_medicines    488\n",
       "diagnosis               488\n",
       "dtype: int64"
      ]
     },
     "execution_count": 89,
     "metadata": {},
     "output_type": "execute_result"
    }
   ],
   "source": [
    "# Your code here:\n",
    "patients.isna().sum()"
   ]
  },
  {
   "cell_type": "markdown",
   "metadata": {},
   "source": [
    "The main issues are found in the `prescribed_medicines` and `diagnosis` columns. Can we simply drop these rows?\n",
    "\n",
    "The answer is not yet. Because when there are missing data in these columns, it doesn't mean the data records are broken. Instead, it means no medication was prescribed and no diagnosis was recorded. Therefore, once we fill in the missing data these columns will be fine. But we'll revisit these columns and decide whether we will eventually drop them when we look at how many unique values are there in these categorical columns.  \n",
    "\n",
    "For the `prescribed_medicines` column, fill the missing values with the value `no prescription`. For the `diagnosis` column, fill the missing values with `no diagnosis`.\n",
    "\n",
    "*Hint: Use [`pandas.DataFrame.fillna`](https://pandas.pydata.org/pandas-docs/stable/generated/pandas.DataFrame.fillna.html).*"
   ]
  },
  {
   "cell_type": "code",
   "execution_count": 90,
   "metadata": {},
   "outputs": [],
   "source": [
    "# Your code here:\n",
    "patients['prescribed_medicines'] = patients.prescribed_medicines.fillna('no prescription')\n",
    "patients['diagnosis'] = patients.prescribed_medicines.fillna('no diagnosis')"
   ]
  },
  {
   "cell_type": "markdown",
   "metadata": {},
   "source": [
    "How about `doctor_name`? Since a doctor visit without a doctor name might not be meaningful, we will drop these rows."
   ]
  },
  {
   "cell_type": "code",
   "execution_count": 91,
   "metadata": {},
   "outputs": [
    {
     "data": {
      "text/plain": [
       "patient_gender          0\n",
       "patient_dob             0\n",
       "patient_diabetic        0\n",
       "patient_allergic        0\n",
       "patient_weight_kg       0\n",
       "patient_height_sm       0\n",
       "doctor_name             0\n",
       "appointment_date        0\n",
       "patient_show            0\n",
       "is_regular_visit        0\n",
       "prescribed_medicines    0\n",
       "diagnosis               0\n",
       "dtype: int64"
      ]
     },
     "execution_count": 91,
     "metadata": {},
     "output_type": "execute_result"
    }
   ],
   "source": [
    "# Your code here:\n",
    "patients.dropna(inplace=True)\n",
    "patients.isna().sum()"
   ]
  },
  {
   "cell_type": "markdown",
   "metadata": {},
   "source": [
    "#### Another step in preprocessing that can be performed by scikit-learn is label encoding. \n",
    "\n",
    "We have 4 columns that are of `bool` type. We would like to convert them to an integer column containing either zero or one. We can do this using [scikit-learn's label encoder](https://scikit-learn.org/stable/modules/generated/sklearn.preprocessing.LabelEncoder.html).\n",
    "\n",
    "In the cell below, import the label encoder and encode the 4 boolean columns (*patient_diabetic*, *patient_allergic*, *patient_show*, *is_regular_visit*) with `0` and `1`. "
   ]
  },
  {
   "cell_type": "code",
   "execution_count": 92,
   "metadata": {},
   "outputs": [],
   "source": [
    "# Your code here:\n",
    "from sklearn.preprocessing import LabelEncoder\n",
    "le = LabelEncoder()\n",
    "patients['patient_diabetic'] = le.fit_transform(patients['patient_diabetic'])\n",
    "patients['patient_allergic'] = le.fit_transform(patients['patient_allergic'])\n",
    "patients['patient_show'] = le.fit_transform(patients['patient_show'])\n",
    "patients['is_regular_visit'] = le.fit_transform(patients['is_regular_visit'])"
   ]
  },
  {
   "cell_type": "markdown",
   "metadata": {},
   "source": [
    "Print the data dtypes to confirm those four `bool` columns are converted to `int64`."
   ]
  },
  {
   "cell_type": "code",
   "execution_count": 93,
   "metadata": {},
   "outputs": [
    {
     "data": {
      "text/plain": [
       "patient_gender                  object\n",
       "patient_dob             datetime64[ns]\n",
       "patient_diabetic                 int64\n",
       "patient_allergic                 int64\n",
       "patient_weight_kg                int64\n",
       "patient_height_sm                int64\n",
       "doctor_name                     object\n",
       "appointment_date        datetime64[ns]\n",
       "patient_show                     int64\n",
       "is_regular_visit                 int64\n",
       "prescribed_medicines            object\n",
       "diagnosis                       object\n",
       "dtype: object"
      ]
     },
     "execution_count": 93,
     "metadata": {},
     "output_type": "execute_result"
    }
   ],
   "source": [
    "# Your code here:\n",
    "patients.dtypes"
   ]
  },
  {
   "cell_type": "markdown",
   "metadata": {},
   "source": [
    "#### The last step is to handle the `object` data.\n",
    "\n",
    "There are 4 `object` columns now: `patient_gender`, `doctor_name`, `prescribed_medicines`, and `diagnosis`. The gender columns\n",
    "\n",
    "In the next cell, check the unique values of each of the `object` columns using `value_counts()`."
   ]
  },
  {
   "cell_type": "code",
   "execution_count": 94,
   "metadata": {
    "scrolled": false
   },
   "outputs": [
    {
     "data": {
      "text/plain": [
       "array(['Female', 'Male'], dtype=object)"
      ]
     },
     "execution_count": 94,
     "metadata": {},
     "output_type": "execute_result"
    }
   ],
   "source": [
    "# Your code here:\n",
    "patients.patient_gender.unique()"
   ]
  },
  {
   "cell_type": "code",
   "execution_count": 95,
   "metadata": {},
   "outputs": [
    {
     "data": {
      "text/plain": [
       "array(['Sarena Waliszek', 'Farris Robinet', 'Kaspar Spitaro',\n",
       "       'Rafferty Fowls', 'Glenna MacNeachtain', 'Cissy Markey',\n",
       "       'Ryley Swallow', 'Wyn Grassett', 'Dulce McKerley',\n",
       "       'Gabie Brafield', 'Oralie Swaffer', 'Humfried Cartmel',\n",
       "       'Madelina Scurrell', 'Carly SperaJillie Katt', 'Jilly McGrill',\n",
       "       'Hermina Domeny', 'Flossy Canlin', 'Nerte Elmer',\n",
       "       'Rouvin McKinstry'], dtype=object)"
      ]
     },
     "execution_count": 95,
     "metadata": {},
     "output_type": "execute_result"
    }
   ],
   "source": [
    "patients.doctor_name.unique()"
   ]
  },
  {
   "cell_type": "code",
   "execution_count": 96,
   "metadata": {},
   "outputs": [
    {
     "data": {
      "text/plain": [
       "array(['triamcinolone acetonide', 'no prescription',\n",
       "       'octinoxate, avobenzone, and octocrylene',\n",
       "       'Glipizide and Metformin Hydrochloride',\n",
       "       'Benazepril Hydrochloride', 'WITCH HAZEL',\n",
       "       'Terbinafine Hydrochloride', 'Tretinoin', 'Magesium Citrate',\n",
       "       'Psyllium Husks', 'aluminum hydroxide', 'Estradiol',\n",
       "       'Propranolol Hydrochloride', 'Avobenzone, Octinoxate, Octisalate',\n",
       "       'NEOMYCIN SULFATE', 'Sulfamethoxazole and Trimethoprim',\n",
       "       'Helium Oxygen Mixture', 'NITROGEN',\n",
       "       'acetaminophen, dextromethorphan Hbr, Phenylephrine HCl',\n",
       "       'Diphenhydramine Hydrochloride and Zinc Acetate',\n",
       "       'Human chorionic gonadotropin (hCG),',\n",
       "       'Arsenicum album, Calcarea carbonica, Ignatia amara Kali carbonicum, Lachesis mutus, Natrum muriaticum,',\n",
       "       'ABILIFY', 'ALUMINUM SULFATE', 'Natural Medicine',\n",
       "       'amoxicillin and clavulanate potassium', 'Ammonium Lactate',\n",
       "       'Risperidone', 'fomepizole',\n",
       "       'bisoprolol fumarate and hydrochlorothiazide', 'DOCUSATE SODIUM',\n",
       "       'dimethicone, octinoxate, octisalate, oxybenzone',\n",
       "       'codeine phosphate and guaifenesin', 'ALCOHOL', 'Pineapple',\n",
       "       'dextromethorphan polistirex',\n",
       "       'ACONITUM NAPELLUS, ARNICA MONTANA, LEDUM PALUSTRE TWIG, MAGNESIUM PHOSPHATE, DIBASIC TRIHYDRATE, TOXICODENDRON PUBESCENS LEAF, and VISCUM ALBUM FRUITING TOP',\n",
       "       'Acetaminophen, Dextromethorphan Hydrobromide, Phenylephrine Hydrochloride',\n",
       "       'Oxcarbazepine', 'OCTINOXATE and TITANIUM DIOXIDE', 'Ibuprofen',\n",
       "       'Metoclopramide Hydrochloride',\n",
       "       'OCTINOXATE, OCTISALATE, ZINC OXIDE, OXYBENZONE', 'Oxygen',\n",
       "       'Avobenzone, Octinoxate, Octisalate, Oxybenzone', 'Salt Cedar',\n",
       "       'Pyrithione Zinc', 'TRAMADOL HYDROCHLORIDE',\n",
       "       'Levocetirizine Dihydrochloride', 'SODIUM FLUORIDE', 'Triclosan',\n",
       "       'Pyrithione zinc', 'Citalopram', 'Metoprolol Tartrate',\n",
       "       'propafenone hydrochloride', 'Silicea Belladonna',\n",
       "       'Valacyclovir hydrochloride', 'Protriptyline Hydrochloride',\n",
       "       'Dexamethasone', 'Ketoconazole', 'Erythromycin',\n",
       "       'ESCITALOPRAM OXALATE', 'alcohol',\n",
       "       'AVOBENZONE, OCTOCRYLENE, OXYBENZONE', 'moexipril hydrochloride',\n",
       "       'Docusate sodium and Sennosides',\n",
       "       'Oats, Common, Cultivated Avena sativa', 'Amlodipine Besylate',\n",
       "       'HOMOSALATE, OXYBENZONE, OCTISALATE, AVOBENZONE, OCTOCRYLENE',\n",
       "       'Metformin Hydrochloride', 'Gabapentin', 'OCTINOXATE',\n",
       "       'Mountain Cedar', 'Artichoke', 'Droperidol',\n",
       "       'Arnica montana, Caladium seguinum, Carduus marianus, Damiana, Galium aparine, Glandula suprarenalis suis, Hepar suis, Korean ginseng, Lactuca virosa,',\n",
       "       'Valsartan and Hydrochlorothiazide',\n",
       "       'Diphenhydramine Hydrochloride', 'Ranitidine Hydrochloride',\n",
       "       'Chelidonium Majus, Hepar Suis, Cholesterinum, Lycopodium Clavatum, Tarentula Hispana, Arsenicum Album, Belladonna',\n",
       "       'Omeprazole', 'morphine sulfate',\n",
       "       'OCTINOXATE, TITANIUM DIOXIDE, and ZINC OXIDE',\n",
       "       'Titanium Dioxide, Zinc Oxide, and Octinoxate',\n",
       "       'albuterol sulfate', 'Octinoxate and Oxybenzone',\n",
       "       'vilazodone hydrochloride', 'benztropine mesylate',\n",
       "       'Ketorolac Tromethamine', 'Titanium dioxide',\n",
       "       'Camphor Menthol Methyl Salicylate', 'clonazepam', 'Mirtazapine',\n",
       "       'epinephrine', 'Menthol', 'False Ragweed Bur', 'Zinc Oxide',\n",
       "       'AVOBENZONE, OCTISALATE, OCTOCRYLENE', 'ALTERNARIA TENUIS',\n",
       "       'Dextromethophan Hydrobromide, Chlorpheniramine Maleate, Phenylephrine Hydrochloride',\n",
       "       'Nadolol', 'fluvastatin', 'VERAPAMIL HYDROCHLORIDE',\n",
       "       'Spasms Weakness', 'CALENDULA OFFICINALIS FLOWERING TOP',\n",
       "       'Titanium Dioxide, Zinc Oxide', 'Treatment Set TS350393',\n",
       "       'Naproxen Sodium', 'Cucumber',\n",
       "       'Antihemophilic Factor (Recombinant)', 'fentanyl', 'Acetaminophen',\n",
       "       'Carvedilol', 'synthetic conjugated estrogens, B',\n",
       "       'Lidocaine Hydrochloride-Menthol', 'Green Pea English',\n",
       "       'amlodipine besylate and atorvastatin calcium',\n",
       "       'Aluminum Zirconium Trichlorohydrex Gly', 'BENZETHONIUM CHLORIDE',\n",
       "       'Oxycodone and Acetaminophen', 'TITANIUM DIOXIDE',\n",
       "       'LYTTA VESICATORIA', 'TRICHOPHYTON MENTAGROPHYTES',\n",
       "       'Venlafaxine Hydrochloride', 'Pectin and Echinacea Purpurea',\n",
       "       'Avobenzone, Octinoxate, Octisalate, Octocrylene',\n",
       "       'divalproex sodium', 'alnus incana subsp. rugosa pollen',\n",
       "       'ATRACTYLODES JAPONICA ROOT',\n",
       "       'Homosalate Oxybenzone Octocrylene Octisalate Avobenzone',\n",
       "       'Salicylic Acid', 'Hydrocortisone', 'Hog Epithelium',\n",
       "       'TRIHEXYPHENIDYL HYDROCHLORIDE', 'Senna and Docusate Sodium',\n",
       "       'Privet', 'ACETAMINOPHEN and PYRILAMINE MALEATE',\n",
       "       'TRAMETES VERSICOLOR FRUITING BODY', 'Warfarin Sodium',\n",
       "       'Benzoyl Peroxide', 'Enoxaparin Sodium',\n",
       "       'Guaifenesin and Dextromethorphan Hydrobromide', 'acetaminophen',\n",
       "       'Duloxetine', 'Medroxyprogesterone Acetate',\n",
       "       'tramadol hydrochloride', 'POLYVINYL ALCOHOL',\n",
       "       'bacitracin zinc, neomycin, polymyxin B', 'Nicotine Polacrilex',\n",
       "       'sildenafil citrate', 'Lansoprazole', 'Pantoprazole Sodium',\n",
       "       'GRANISETRON HYDROCHLORIDE',\n",
       "       'Agnus 30c, Aurum Nat Mur. 30c, Aletris 30c, Dioscorea 30c',\n",
       "       'mupirocin', 'FERRIC OXIDE RED', 'Purixan', 'KAPOK',\n",
       "       'Granisetron Hydrochloride', 'Eastern Cottonwood',\n",
       "       'Aurum Lavender Rose',\n",
       "       'Uricum acidum, Benzoicum acidum, Berber. vulg., Bryonia, Cantharis, Carduus benedictus, Ceanothus, Chelidonium majus, Chionanthus virginica, Cinchona, Dioscorea, Dolichos, Iris versicolor, Juniperus com., Nux vom., Ptelea, Taraxacum, Carduus mar., Cynara scolymus, Solidago',\n",
       "       'Neurospora intermedia', 'Dimethicone', 'phytonadione',\n",
       "       'DEXTROMETHORPHAN HYDROBROMIDE, GUAIFENESIN, PHENYLEPHRINE HYDROCHLORIDE',\n",
       "       'Octinoxate and Titanium Dioxide', 'BISMUTH SUBSALICYLATE',\n",
       "       'Methyl salicylate, Menthol, Capsaicin', 'ketoconazole',\n",
       "       'CLOTRIMAZOLE', 'tobramycin and dexamethasone', 'Sodium Fluoride',\n",
       "       'mesna', 'TRICLOSAN',\n",
       "       'norethindrone acetate and ethinyl estradiol and ferrous fumarate',\n",
       "       'ACETAMINOPHEN, DOXYLAMINE SUCCINATE HCL, DEXTROMETHORPHAN HYDROBROMIDE',\n",
       "       'GLYCERIN', 'isopropyl alcohol',\n",
       "       'Acetaminophen, Dextromethorphan HBr, Guaifenesin, Phenylephrine HCl',\n",
       "       'montelukast sodium',\n",
       "       'ACONITUM NAPELLUS and BRYONIA ALBA ROOT and PHOSPHORUS',\n",
       "       'Oxymorphone Hydrochloride', 'BENZALKONIUM CHLORIDE',\n",
       "       'SERTRALINE HYDROCHLORIDE', 'Birch Black',\n",
       "       'Acetaminophen, Dextromethorphan HBr, Doxylamine succinate',\n",
       "       'OXYBENZONE, AVOBENZONE, OCTOCRYLENE', 'OXYGEN',\n",
       "       'SALICYLIC ACID, TITANIUM DIOXIDE, ZINC OXIDE', 'providone iodine',\n",
       "       'oxybutynin chloride', 'Strawberry',\n",
       "       'Fibrinogen Human Thrombin Human',\n",
       "       'avobenzone, homosalate, octisalate, octocrylene', 'Fluoxetine',\n",
       "       'Chlorpheniramine Maleate',\n",
       "       'Aluminum Zirconium Tetrachlorohydrex GLY', 'Amoxicillin',\n",
       "       'romidepsin', 'HYDROQUINONE', 'OCTINOXATE and OXYBENZONE',\n",
       "       'Etodolac', 'Cefuroxime', 'cysteamine hydrochloride', 'MENTHOL',\n",
       "       'Octinoxate, Titanium Dioxide', 'doxepin hydrochloride',\n",
       "       'Potassium Chloride', 'Aurum 5', 'Metaxalone', 'HYDROCORTISONE',\n",
       "       'Triclocarban', 'diazepam', 'Ramipril',\n",
       "       'Acetaminophen, Guaifenesin, Phenylephrine HCl',\n",
       "       'Loperamide Hydrochloride', 'ACETAMINOPHEN',\n",
       "       'Levonorgestrel and Ethinyl Estradiol',\n",
       "       'Phenazopyridine Hydrochloride', 'House Dust', 'TOLNAFTATE',\n",
       "       'PSEUDOGNAPHALIUM OBTUSIFOLIUM, CAUSTICUM, COLCHICUM AUTUMNALE BULB, CITRULLUS COLOCYNTHIS FRUIT PULP, IRON, LITHIUM BENZOATE, TOXICODENDRON PUBESCENS LEAF and FILIPENDULA ULMARIA ROOT',\n",
       "       'benzocaine and glycerin', 'clocortolone pivalate',\n",
       "       'donepezil hydrochloride', 'fluvastatin sodium', 'Docetaxel',\n",
       "       'Dextromethorphan HBr, Guaifenesin', 'fentanyl citrate',\n",
       "       'Disulfiram', 'Potassium Iodide', 'Tetracycline Hydrochloride',\n",
       "       'Leucine, Phenylalanine, Lysine, Methionine, Isoleucine, Valine, Histidine, Threonine, Tryptophan, Alanine, Glycine, Arginine, Proline, Serine, Tyrosine, Dextrose',\n",
       "       'Bethanechol Chloride',\n",
       "       'Norethindrone and Ethinyl Estradiol Tablets', 'Sodium chloride',\n",
       "       'Polyethylene Glycol 3350, Sodium Sulfate Anhydrous, Sodium Bicarbonate, Sodium Chloride, Potassium Chloride',\n",
       "       'petrolatum', 'amoxicillin',\n",
       "       'ZINC OXIDE, OCTINOXATE, and OCTISALATE', 'Yellow Dock',\n",
       "       'Agnus castus, Aralia quinquefolia, Arnica montana, Damiana, Lactuca virosa, Natrum muriaticum, Onosmodium virginianum, Oophorinum, Phosphoricum acidum, Pituitarum posterium, Salix nigra, Sepia, Thuja occidentalis',\n",
       "       'MOMETASONE FUROATE', 'CEFTAZIDIME', 'Bismuth subsalicylate',\n",
       "       'MAGNESIUM HYDROXIDE', 'Hepatitis B Immune Globulin (Human)',\n",
       "       'Eprosartan Mesylate and Hydrochlorothiazide',\n",
       "       'levothyroxine sodium tablets', 'Captopril', 'Miconazole Nitrate',\n",
       "       'Levothyroxine Sodium', 'CETYLPYRIDINIUM CHLORIDE', 'Topiramate',\n",
       "       'peginterferon alfa-2b',\n",
       "       'LOSARTAN POTASSIUM AND HYDROCHLOROTHIAZIDE', 'Titanium Dioxide',\n",
       "       'famotidine, calcium carbonate and magnesium hydroxide',\n",
       "       'Aralia racemosa, Arsenicum album, Histaminum hydrochloricum, Nux vomica, Oleum animale, Phosphorus, Silicea, Sulphur',\n",
       "       'Diphenhydramine HCl', 'Water', 'Sweetgum',\n",
       "       'Lidocaine Hydrochloride and Hydrocortisone Acetate', 'Octinoxate',\n",
       "       'Pseudoephedrine Hydrochloride', 'MAGNESIUM CITRATE', 'Eucalyptol',\n",
       "       'Hydrocodone Bitartrate and Acetaminophen', 'LACTULOSE',\n",
       "       'VANCOMYCIN HYDROCHLORIDE', 'ERYTHROMYCIN STEARATE',\n",
       "       'Lidocaine Hydrochloride', 'Titanium dioxide and Zinc oxide',\n",
       "       'Benzalkonium Chloride', 'salicylic acid',\n",
       "       'Octinoxate and Titanium dioxide',\n",
       "       'CONJUGATED ESTROGENS and MEDROXYPROGESTERONE ACETATE', 'Aspirin',\n",
       "       'methylcellulose',\n",
       "       'Acetaminophen, Dextromethorphan Hydrobromide, Doxylamine Succinate',\n",
       "       'sodium fluoride', 'Lemon', 'Urea Cream with Moisturizing Cream',\n",
       "       'benzocaine', 'zinc acetate', 'POVIDONE-IODINE',\n",
       "       'Sodium Fluoride F-18', 'Bupropion Hydrochloride',\n",
       "       'cocoa butter, phenylephrine HCl', 'Isopropyl Alcohol',\n",
       "       'PETROLATUM', 'Simvastatin', 'Carelessweed',\n",
       "       'Aloe socotrina, Alumina, Apis mellifica', 'FENTANYL',\n",
       "       'valsartan and hydrochlorothiazide', 'Mupirocin', 'WATER',\n",
       "       'polidocanol', 'Butalbital and Acetaminophen Tablets',\n",
       "       'GINKGO BILOBA LEAF', 'hydroxocobalamin',\n",
       "       'avobenzone, homosalate, octisalate, oxybenzone',\n",
       "       'tapentadol hydrochloride', 'Aluminum Chlorohydrate',\n",
       "       'Rough Marsh Elder', 'Prazosin Hydrochloride', 'Fenofibric Acid',\n",
       "       'methimazole', 'Oat Grain', 'AVOBENZONE, OCTINOXATE,OCTISALATE',\n",
       "       'TITANIUM DIOXIDE, OCTINOXATE', 'ZINC OXIDE', 'sodium selenite',\n",
       "       'Trandolapril', 'DROSERA ROTUNDIFOLIA', 'Rhodotorula mucilaginosa',\n",
       "       'False Ragweed',\n",
       "       'Avobenzone, Homosalate, Octisalate, Octocrylene, and Oxybenzone',\n",
       "       'Heparin Sodium', 'Cypress Arizona', 'allopurinol',\n",
       "       'Asterias rubens, Bryonia, Conium maculatum, Galium aparine, Hoang-nan, Lachesis mutus, Nux vomica, Ova tosta, Sepia and Viscum album',\n",
       "       'Simethicone', 'Pyrazinamide', 'Losartan Potassium', 'Furosemide',\n",
       "       'ALUMINUM CHLOROHYDRATE', 'Hydrocortisone Acetate',\n",
       "       'OCTINOXATE, TITANIUM DIOXIDE, DIMETHICONE, ALUMINUM HYDROXIDE, STEARIC ACID, HYDROXYPROLINE,',\n",
       "       'Metoprolol succinate', 'Cefuroxime Axetil',\n",
       "       'Diltiazem Hydrochloride', 'Glyburide', 'Vancomycin Hydrochloride',\n",
       "       'Octisalate and Zinc Oxide',\n",
       "       'Aluminum Zirconium Pentachlorohydrex Gly',\n",
       "       'OCTINOXATE, TITANIUM DIOXIDE, OXYBENZONE',\n",
       "       'Boricum Gluconicum, Calcarea Gluconica, Chromium Gluconicum, Cobaltum Gluconicum, Cuprum Gluconicum',\n",
       "       'lidocaine hydrochloride', 'Acetaminophen, Aspirin, Caffeine',\n",
       "       'SOYBEAN OIL', 'Doxazosin', 'Lisinopril and hydrochlorothiazide',\n",
       "       'estradiol acetate', 'Sertraline Hydrochloride',\n",
       "       'Zinc Oxide, Titanium Dioxide', 'Folic Acid',\n",
       "       'California Black Walnut', 'ATORVASTATIN CALCIUM',\n",
       "       'MIDODRINE HYDROCHLORIDE', 'levothyroxine sodium',\n",
       "       'metformin hydrochloride', 'Atorvastatin Calcium', 'acitretin',\n",
       "       'Apis Rhus', 'TITANIUM DIOXIDE and ZINC OXIDE',\n",
       "       'Para Grass Pollen', 'HYDROCODONE BITARTRATE AND IBUPROFEN',\n",
       "       'MYRRH GOLD', 'Calcium carbonate and Magnesium hydroxide',\n",
       "       '.beta.-carotene, ascorbic acid, cholecalciferol, .alpha.-tocopherol acetate, dl-, thiamine mononitrate, riboflavin, niacinamide, pyridoxine hydrochloride, folic acid, cyanocobalamin, calcium carbonate, ferrous fumarate, potassium iodide and zinc oxide',\n",
       "       'Cefprozil', 'Enalapril Maleate',\n",
       "       'octinoxate, octisalate, octocrylene, oxybenzone', 'Hormodendrum',\n",
       "       'Acetaminophen, Diphenhydramine HCl', 'Antiseptic handwash',\n",
       "       'Aesculus hippocastanum, Arnica montana, Berberis vulgaris, Carbo vegetabilis, Echinacea angustifolia, Hamamelis virginiana, Hydrofluoricum acidum, Lycopodium clavatum, Secale cornutum, Sulfur',\n",
       "       'bethanechol chloride', 'Glycerin', 'Mango Blossom',\n",
       "       'Hydrocodone Bitartrate and Ibuprofen',\n",
       "       'OCTINOXATE, OXYBENZONE, TITANIUM DIOXIDE',\n",
       "       'Duloxetine hydrochloride', 'clobazam', 'Hydrogen Peroxide',\n",
       "       'AMOXICILLIN', 'Norethindrone and Ethinyl Estradiol',\n",
       "       'Cyclopentolate Hydrochloride', 'Promethazine Hydrochloride',\n",
       "       'Benzocaine', 'AVOBENZONE, OCTINOXATE, OCTISALATE, OCTOCRYLENE',\n",
       "       'MINERAL OIL,PETROLATUM,PHENYLEPHRINE',\n",
       "       'diphenhydramine citrate and ibuprofen',\n",
       "       'ezetimibe and simvastatin', 'Soft Cheat Brome',\n",
       "       'Desmopressin Acetate', 'ENALAPRIL MALEATE',\n",
       "       'atorvastatin calcium', 'Formaldehyde', 'nitroglycerin',\n",
       "       'IRON SUPPLEMENT',\n",
       "       'aluminum hydroxide, magnesium carbonate, sodium bicarbonate'],\n",
       "      dtype=object)"
      ]
     },
     "execution_count": 96,
     "metadata": {},
     "output_type": "execute_result"
    }
   ],
   "source": [
    "patients.prescribed_medicines.unique()"
   ]
  },
  {
   "cell_type": "code",
   "execution_count": 97,
   "metadata": {},
   "outputs": [
    {
     "data": {
      "text/plain": [
       "array(['triamcinolone acetonide', 'no prescription',\n",
       "       'octinoxate, avobenzone, and octocrylene',\n",
       "       'Glipizide and Metformin Hydrochloride',\n",
       "       'Benazepril Hydrochloride', 'WITCH HAZEL',\n",
       "       'Terbinafine Hydrochloride', 'Tretinoin', 'Magesium Citrate',\n",
       "       'Psyllium Husks', 'aluminum hydroxide', 'Estradiol',\n",
       "       'Propranolol Hydrochloride', 'Avobenzone, Octinoxate, Octisalate',\n",
       "       'NEOMYCIN SULFATE', 'Sulfamethoxazole and Trimethoprim',\n",
       "       'Helium Oxygen Mixture', 'NITROGEN',\n",
       "       'acetaminophen, dextromethorphan Hbr, Phenylephrine HCl',\n",
       "       'Diphenhydramine Hydrochloride and Zinc Acetate',\n",
       "       'Human chorionic gonadotropin (hCG),',\n",
       "       'Arsenicum album, Calcarea carbonica, Ignatia amara Kali carbonicum, Lachesis mutus, Natrum muriaticum,',\n",
       "       'ABILIFY', 'ALUMINUM SULFATE', 'Natural Medicine',\n",
       "       'amoxicillin and clavulanate potassium', 'Ammonium Lactate',\n",
       "       'Risperidone', 'fomepizole',\n",
       "       'bisoprolol fumarate and hydrochlorothiazide', 'DOCUSATE SODIUM',\n",
       "       'dimethicone, octinoxate, octisalate, oxybenzone',\n",
       "       'codeine phosphate and guaifenesin', 'ALCOHOL', 'Pineapple',\n",
       "       'dextromethorphan polistirex',\n",
       "       'ACONITUM NAPELLUS, ARNICA MONTANA, LEDUM PALUSTRE TWIG, MAGNESIUM PHOSPHATE, DIBASIC TRIHYDRATE, TOXICODENDRON PUBESCENS LEAF, and VISCUM ALBUM FRUITING TOP',\n",
       "       'Acetaminophen, Dextromethorphan Hydrobromide, Phenylephrine Hydrochloride',\n",
       "       'Oxcarbazepine', 'OCTINOXATE and TITANIUM DIOXIDE', 'Ibuprofen',\n",
       "       'Metoclopramide Hydrochloride',\n",
       "       'OCTINOXATE, OCTISALATE, ZINC OXIDE, OXYBENZONE', 'Oxygen',\n",
       "       'Avobenzone, Octinoxate, Octisalate, Oxybenzone', 'Salt Cedar',\n",
       "       'Pyrithione Zinc', 'TRAMADOL HYDROCHLORIDE',\n",
       "       'Levocetirizine Dihydrochloride', 'SODIUM FLUORIDE', 'Triclosan',\n",
       "       'Pyrithione zinc', 'Citalopram', 'Metoprolol Tartrate',\n",
       "       'propafenone hydrochloride', 'Silicea Belladonna',\n",
       "       'Valacyclovir hydrochloride', 'Protriptyline Hydrochloride',\n",
       "       'Dexamethasone', 'Ketoconazole', 'Erythromycin',\n",
       "       'ESCITALOPRAM OXALATE', 'alcohol',\n",
       "       'AVOBENZONE, OCTOCRYLENE, OXYBENZONE', 'moexipril hydrochloride',\n",
       "       'Docusate sodium and Sennosides',\n",
       "       'Oats, Common, Cultivated Avena sativa', 'Amlodipine Besylate',\n",
       "       'HOMOSALATE, OXYBENZONE, OCTISALATE, AVOBENZONE, OCTOCRYLENE',\n",
       "       'Metformin Hydrochloride', 'Gabapentin', 'OCTINOXATE',\n",
       "       'Mountain Cedar', 'Artichoke', 'Droperidol',\n",
       "       'Arnica montana, Caladium seguinum, Carduus marianus, Damiana, Galium aparine, Glandula suprarenalis suis, Hepar suis, Korean ginseng, Lactuca virosa,',\n",
       "       'Valsartan and Hydrochlorothiazide',\n",
       "       'Diphenhydramine Hydrochloride', 'Ranitidine Hydrochloride',\n",
       "       'Chelidonium Majus, Hepar Suis, Cholesterinum, Lycopodium Clavatum, Tarentula Hispana, Arsenicum Album, Belladonna',\n",
       "       'Omeprazole', 'morphine sulfate',\n",
       "       'OCTINOXATE, TITANIUM DIOXIDE, and ZINC OXIDE',\n",
       "       'Titanium Dioxide, Zinc Oxide, and Octinoxate',\n",
       "       'albuterol sulfate', 'Octinoxate and Oxybenzone',\n",
       "       'vilazodone hydrochloride', 'benztropine mesylate',\n",
       "       'Ketorolac Tromethamine', 'Titanium dioxide',\n",
       "       'Camphor Menthol Methyl Salicylate', 'clonazepam', 'Mirtazapine',\n",
       "       'epinephrine', 'Menthol', 'False Ragweed Bur', 'Zinc Oxide',\n",
       "       'AVOBENZONE, OCTISALATE, OCTOCRYLENE', 'ALTERNARIA TENUIS',\n",
       "       'Dextromethophan Hydrobromide, Chlorpheniramine Maleate, Phenylephrine Hydrochloride',\n",
       "       'Nadolol', 'fluvastatin', 'VERAPAMIL HYDROCHLORIDE',\n",
       "       'Spasms Weakness', 'CALENDULA OFFICINALIS FLOWERING TOP',\n",
       "       'Titanium Dioxide, Zinc Oxide', 'Treatment Set TS350393',\n",
       "       'Naproxen Sodium', 'Cucumber',\n",
       "       'Antihemophilic Factor (Recombinant)', 'fentanyl', 'Acetaminophen',\n",
       "       'Carvedilol', 'synthetic conjugated estrogens, B',\n",
       "       'Lidocaine Hydrochloride-Menthol', 'Green Pea English',\n",
       "       'amlodipine besylate and atorvastatin calcium',\n",
       "       'Aluminum Zirconium Trichlorohydrex Gly', 'BENZETHONIUM CHLORIDE',\n",
       "       'Oxycodone and Acetaminophen', 'TITANIUM DIOXIDE',\n",
       "       'LYTTA VESICATORIA', 'TRICHOPHYTON MENTAGROPHYTES',\n",
       "       'Venlafaxine Hydrochloride', 'Pectin and Echinacea Purpurea',\n",
       "       'Avobenzone, Octinoxate, Octisalate, Octocrylene',\n",
       "       'divalproex sodium', 'alnus incana subsp. rugosa pollen',\n",
       "       'ATRACTYLODES JAPONICA ROOT',\n",
       "       'Homosalate Oxybenzone Octocrylene Octisalate Avobenzone',\n",
       "       'Salicylic Acid', 'Hydrocortisone', 'Hog Epithelium',\n",
       "       'TRIHEXYPHENIDYL HYDROCHLORIDE', 'Senna and Docusate Sodium',\n",
       "       'Privet', 'ACETAMINOPHEN and PYRILAMINE MALEATE',\n",
       "       'TRAMETES VERSICOLOR FRUITING BODY', 'Warfarin Sodium',\n",
       "       'Benzoyl Peroxide', 'Enoxaparin Sodium',\n",
       "       'Guaifenesin and Dextromethorphan Hydrobromide', 'acetaminophen',\n",
       "       'Duloxetine', 'Medroxyprogesterone Acetate',\n",
       "       'tramadol hydrochloride', 'POLYVINYL ALCOHOL',\n",
       "       'bacitracin zinc, neomycin, polymyxin B', 'Nicotine Polacrilex',\n",
       "       'sildenafil citrate', 'Lansoprazole', 'Pantoprazole Sodium',\n",
       "       'GRANISETRON HYDROCHLORIDE',\n",
       "       'Agnus 30c, Aurum Nat Mur. 30c, Aletris 30c, Dioscorea 30c',\n",
       "       'mupirocin', 'FERRIC OXIDE RED', 'Purixan', 'KAPOK',\n",
       "       'Granisetron Hydrochloride', 'Eastern Cottonwood',\n",
       "       'Aurum Lavender Rose',\n",
       "       'Uricum acidum, Benzoicum acidum, Berber. vulg., Bryonia, Cantharis, Carduus benedictus, Ceanothus, Chelidonium majus, Chionanthus virginica, Cinchona, Dioscorea, Dolichos, Iris versicolor, Juniperus com., Nux vom., Ptelea, Taraxacum, Carduus mar., Cynara scolymus, Solidago',\n",
       "       'Neurospora intermedia', 'Dimethicone', 'phytonadione',\n",
       "       'DEXTROMETHORPHAN HYDROBROMIDE, GUAIFENESIN, PHENYLEPHRINE HYDROCHLORIDE',\n",
       "       'Octinoxate and Titanium Dioxide', 'BISMUTH SUBSALICYLATE',\n",
       "       'Methyl salicylate, Menthol, Capsaicin', 'ketoconazole',\n",
       "       'CLOTRIMAZOLE', 'tobramycin and dexamethasone', 'Sodium Fluoride',\n",
       "       'mesna', 'TRICLOSAN',\n",
       "       'norethindrone acetate and ethinyl estradiol and ferrous fumarate',\n",
       "       'ACETAMINOPHEN, DOXYLAMINE SUCCINATE HCL, DEXTROMETHORPHAN HYDROBROMIDE',\n",
       "       'GLYCERIN', 'isopropyl alcohol',\n",
       "       'Acetaminophen, Dextromethorphan HBr, Guaifenesin, Phenylephrine HCl',\n",
       "       'montelukast sodium',\n",
       "       'ACONITUM NAPELLUS and BRYONIA ALBA ROOT and PHOSPHORUS',\n",
       "       'Oxymorphone Hydrochloride', 'BENZALKONIUM CHLORIDE',\n",
       "       'SERTRALINE HYDROCHLORIDE', 'Birch Black',\n",
       "       'Acetaminophen, Dextromethorphan HBr, Doxylamine succinate',\n",
       "       'OXYBENZONE, AVOBENZONE, OCTOCRYLENE', 'OXYGEN',\n",
       "       'SALICYLIC ACID, TITANIUM DIOXIDE, ZINC OXIDE', 'providone iodine',\n",
       "       'oxybutynin chloride', 'Strawberry',\n",
       "       'Fibrinogen Human Thrombin Human',\n",
       "       'avobenzone, homosalate, octisalate, octocrylene', 'Fluoxetine',\n",
       "       'Chlorpheniramine Maleate',\n",
       "       'Aluminum Zirconium Tetrachlorohydrex GLY', 'Amoxicillin',\n",
       "       'romidepsin', 'HYDROQUINONE', 'OCTINOXATE and OXYBENZONE',\n",
       "       'Etodolac', 'Cefuroxime', 'cysteamine hydrochloride', 'MENTHOL',\n",
       "       'Octinoxate, Titanium Dioxide', 'doxepin hydrochloride',\n",
       "       'Potassium Chloride', 'Aurum 5', 'Metaxalone', 'HYDROCORTISONE',\n",
       "       'Triclocarban', 'diazepam', 'Ramipril',\n",
       "       'Acetaminophen, Guaifenesin, Phenylephrine HCl',\n",
       "       'Loperamide Hydrochloride', 'ACETAMINOPHEN',\n",
       "       'Levonorgestrel and Ethinyl Estradiol',\n",
       "       'Phenazopyridine Hydrochloride', 'House Dust', 'TOLNAFTATE',\n",
       "       'PSEUDOGNAPHALIUM OBTUSIFOLIUM, CAUSTICUM, COLCHICUM AUTUMNALE BULB, CITRULLUS COLOCYNTHIS FRUIT PULP, IRON, LITHIUM BENZOATE, TOXICODENDRON PUBESCENS LEAF and FILIPENDULA ULMARIA ROOT',\n",
       "       'benzocaine and glycerin', 'clocortolone pivalate',\n",
       "       'donepezil hydrochloride', 'fluvastatin sodium', 'Docetaxel',\n",
       "       'Dextromethorphan HBr, Guaifenesin', 'fentanyl citrate',\n",
       "       'Disulfiram', 'Potassium Iodide', 'Tetracycline Hydrochloride',\n",
       "       'Leucine, Phenylalanine, Lysine, Methionine, Isoleucine, Valine, Histidine, Threonine, Tryptophan, Alanine, Glycine, Arginine, Proline, Serine, Tyrosine, Dextrose',\n",
       "       'Bethanechol Chloride',\n",
       "       'Norethindrone and Ethinyl Estradiol Tablets', 'Sodium chloride',\n",
       "       'Polyethylene Glycol 3350, Sodium Sulfate Anhydrous, Sodium Bicarbonate, Sodium Chloride, Potassium Chloride',\n",
       "       'petrolatum', 'amoxicillin',\n",
       "       'ZINC OXIDE, OCTINOXATE, and OCTISALATE', 'Yellow Dock',\n",
       "       'Agnus castus, Aralia quinquefolia, Arnica montana, Damiana, Lactuca virosa, Natrum muriaticum, Onosmodium virginianum, Oophorinum, Phosphoricum acidum, Pituitarum posterium, Salix nigra, Sepia, Thuja occidentalis',\n",
       "       'MOMETASONE FUROATE', 'CEFTAZIDIME', 'Bismuth subsalicylate',\n",
       "       'MAGNESIUM HYDROXIDE', 'Hepatitis B Immune Globulin (Human)',\n",
       "       'Eprosartan Mesylate and Hydrochlorothiazide',\n",
       "       'levothyroxine sodium tablets', 'Captopril', 'Miconazole Nitrate',\n",
       "       'Levothyroxine Sodium', 'CETYLPYRIDINIUM CHLORIDE', 'Topiramate',\n",
       "       'peginterferon alfa-2b',\n",
       "       'LOSARTAN POTASSIUM AND HYDROCHLOROTHIAZIDE', 'Titanium Dioxide',\n",
       "       'famotidine, calcium carbonate and magnesium hydroxide',\n",
       "       'Aralia racemosa, Arsenicum album, Histaminum hydrochloricum, Nux vomica, Oleum animale, Phosphorus, Silicea, Sulphur',\n",
       "       'Diphenhydramine HCl', 'Water', 'Sweetgum',\n",
       "       'Lidocaine Hydrochloride and Hydrocortisone Acetate', 'Octinoxate',\n",
       "       'Pseudoephedrine Hydrochloride', 'MAGNESIUM CITRATE', 'Eucalyptol',\n",
       "       'Hydrocodone Bitartrate and Acetaminophen', 'LACTULOSE',\n",
       "       'VANCOMYCIN HYDROCHLORIDE', 'ERYTHROMYCIN STEARATE',\n",
       "       'Lidocaine Hydrochloride', 'Titanium dioxide and Zinc oxide',\n",
       "       'Benzalkonium Chloride', 'salicylic acid',\n",
       "       'Octinoxate and Titanium dioxide',\n",
       "       'CONJUGATED ESTROGENS and MEDROXYPROGESTERONE ACETATE', 'Aspirin',\n",
       "       'methylcellulose',\n",
       "       'Acetaminophen, Dextromethorphan Hydrobromide, Doxylamine Succinate',\n",
       "       'sodium fluoride', 'Lemon', 'Urea Cream with Moisturizing Cream',\n",
       "       'benzocaine', 'zinc acetate', 'POVIDONE-IODINE',\n",
       "       'Sodium Fluoride F-18', 'Bupropion Hydrochloride',\n",
       "       'cocoa butter, phenylephrine HCl', 'Isopropyl Alcohol',\n",
       "       'PETROLATUM', 'Simvastatin', 'Carelessweed',\n",
       "       'Aloe socotrina, Alumina, Apis mellifica', 'FENTANYL',\n",
       "       'valsartan and hydrochlorothiazide', 'Mupirocin', 'WATER',\n",
       "       'polidocanol', 'Butalbital and Acetaminophen Tablets',\n",
       "       'GINKGO BILOBA LEAF', 'hydroxocobalamin',\n",
       "       'avobenzone, homosalate, octisalate, oxybenzone',\n",
       "       'tapentadol hydrochloride', 'Aluminum Chlorohydrate',\n",
       "       'Rough Marsh Elder', 'Prazosin Hydrochloride', 'Fenofibric Acid',\n",
       "       'methimazole', 'Oat Grain', 'AVOBENZONE, OCTINOXATE,OCTISALATE',\n",
       "       'TITANIUM DIOXIDE, OCTINOXATE', 'ZINC OXIDE', 'sodium selenite',\n",
       "       'Trandolapril', 'DROSERA ROTUNDIFOLIA', 'Rhodotorula mucilaginosa',\n",
       "       'False Ragweed',\n",
       "       'Avobenzone, Homosalate, Octisalate, Octocrylene, and Oxybenzone',\n",
       "       'Heparin Sodium', 'Cypress Arizona', 'allopurinol',\n",
       "       'Asterias rubens, Bryonia, Conium maculatum, Galium aparine, Hoang-nan, Lachesis mutus, Nux vomica, Ova tosta, Sepia and Viscum album',\n",
       "       'Simethicone', 'Pyrazinamide', 'Losartan Potassium', 'Furosemide',\n",
       "       'ALUMINUM CHLOROHYDRATE', 'Hydrocortisone Acetate',\n",
       "       'OCTINOXATE, TITANIUM DIOXIDE, DIMETHICONE, ALUMINUM HYDROXIDE, STEARIC ACID, HYDROXYPROLINE,',\n",
       "       'Metoprolol succinate', 'Cefuroxime Axetil',\n",
       "       'Diltiazem Hydrochloride', 'Glyburide', 'Vancomycin Hydrochloride',\n",
       "       'Octisalate and Zinc Oxide',\n",
       "       'Aluminum Zirconium Pentachlorohydrex Gly',\n",
       "       'OCTINOXATE, TITANIUM DIOXIDE, OXYBENZONE',\n",
       "       'Boricum Gluconicum, Calcarea Gluconica, Chromium Gluconicum, Cobaltum Gluconicum, Cuprum Gluconicum',\n",
       "       'lidocaine hydrochloride', 'Acetaminophen, Aspirin, Caffeine',\n",
       "       'SOYBEAN OIL', 'Doxazosin', 'Lisinopril and hydrochlorothiazide',\n",
       "       'estradiol acetate', 'Sertraline Hydrochloride',\n",
       "       'Zinc Oxide, Titanium Dioxide', 'Folic Acid',\n",
       "       'California Black Walnut', 'ATORVASTATIN CALCIUM',\n",
       "       'MIDODRINE HYDROCHLORIDE', 'levothyroxine sodium',\n",
       "       'metformin hydrochloride', 'Atorvastatin Calcium', 'acitretin',\n",
       "       'Apis Rhus', 'TITANIUM DIOXIDE and ZINC OXIDE',\n",
       "       'Para Grass Pollen', 'HYDROCODONE BITARTRATE AND IBUPROFEN',\n",
       "       'MYRRH GOLD', 'Calcium carbonate and Magnesium hydroxide',\n",
       "       '.beta.-carotene, ascorbic acid, cholecalciferol, .alpha.-tocopherol acetate, dl-, thiamine mononitrate, riboflavin, niacinamide, pyridoxine hydrochloride, folic acid, cyanocobalamin, calcium carbonate, ferrous fumarate, potassium iodide and zinc oxide',\n",
       "       'Cefprozil', 'Enalapril Maleate',\n",
       "       'octinoxate, octisalate, octocrylene, oxybenzone', 'Hormodendrum',\n",
       "       'Acetaminophen, Diphenhydramine HCl', 'Antiseptic handwash',\n",
       "       'Aesculus hippocastanum, Arnica montana, Berberis vulgaris, Carbo vegetabilis, Echinacea angustifolia, Hamamelis virginiana, Hydrofluoricum acidum, Lycopodium clavatum, Secale cornutum, Sulfur',\n",
       "       'bethanechol chloride', 'Glycerin', 'Mango Blossom',\n",
       "       'Hydrocodone Bitartrate and Ibuprofen',\n",
       "       'OCTINOXATE, OXYBENZONE, TITANIUM DIOXIDE',\n",
       "       'Duloxetine hydrochloride', 'clobazam', 'Hydrogen Peroxide',\n",
       "       'AMOXICILLIN', 'Norethindrone and Ethinyl Estradiol',\n",
       "       'Cyclopentolate Hydrochloride', 'Promethazine Hydrochloride',\n",
       "       'Benzocaine', 'AVOBENZONE, OCTINOXATE, OCTISALATE, OCTOCRYLENE',\n",
       "       'MINERAL OIL,PETROLATUM,PHENYLEPHRINE',\n",
       "       'diphenhydramine citrate and ibuprofen',\n",
       "       'ezetimibe and simvastatin', 'Soft Cheat Brome',\n",
       "       'Desmopressin Acetate', 'ENALAPRIL MALEATE',\n",
       "       'atorvastatin calcium', 'Formaldehyde', 'nitroglycerin',\n",
       "       'IRON SUPPLEMENT',\n",
       "       'aluminum hydroxide, magnesium carbonate, sodium bicarbonate'],\n",
       "      dtype=object)"
      ]
     },
     "execution_count": 97,
     "metadata": {},
     "output_type": "execute_result"
    }
   ],
   "source": [
    "patients.diagnosis.unique()"
   ]
  },
  {
   "cell_type": "markdown",
   "metadata": {},
   "source": [
    "#### The number of unique values is large for all three columns except `patient_gender`. We will handle these columns differently.\n",
    "\n",
    "For `diagnosis`, there are too many unique values which will make ML difficult. However, we can re-encode the values to either with or without diagnosis. Remember at an earlier step we filled in the missing values of this column with *no diagnosis*? We can re-encode *no diagnosis* to `0` and all other values to `1`. In this way we can tremendously simply this column.\n",
    "\n",
    "For `prescribed_medicines`, we can drop this column because it is perfectly correlated with `diagnosis`. Whenever there is no diagnosis, there is no prescribed medicine. So we don't need to keep this duplicated data.\n",
    "\n",
    "How about `doctor_name`? There are not excessive unique values but still quite many (19). We may either drop or keep it but keeping it will make the analysis more complicated. So due to the length of this lab let's drop it.\n",
    "\n",
    "How about `gender`? This one is easy. Just like re-encoding the boolean values, we can re-encode gender to `0` and `1` because there are only 2 unique values.\n",
    "\n",
    "In the next cells, do the following:\n",
    "\n",
    "1. Create a new column called `diagnosis_int` that has `0` and `1` based on the values in `diagnosis`.\n",
    "\n",
    "1. Create a new column called `patient_gender_int` that has `0` and `1` based on the values in `patient_gender`.\n",
    "\n",
    "1. Drop the following columns: `doctor_name`, `diagnosis`, `prescribed_medicines`, and `patient_gender`."
   ]
  },
  {
   "cell_type": "code",
   "execution_count": 98,
   "metadata": {},
   "outputs": [],
   "source": [
    "# Your code here:\n",
    "patients['diagnosis_int'] = le.fit_transform(patients.diagnosis)\n",
    "patients['patient_gender_int'] = le.fit_transform(patients.patient_gender)\n",
    "patients.drop(['doctor_name','diagnosis','prescribed_medicines','patient_gender'],axis=1,inplace=True)"
   ]
  },
  {
   "cell_type": "markdown",
   "metadata": {},
   "source": [
    "Let's look at the head again to ensure the re-encoding and dropping are successful:"
   ]
  },
  {
   "cell_type": "code",
   "execution_count": 99,
   "metadata": {},
   "outputs": [
    {
     "data": {
      "text/html": [
       "<div>\n",
       "<style scoped>\n",
       "    .dataframe tbody tr th:only-of-type {\n",
       "        vertical-align: middle;\n",
       "    }\n",
       "\n",
       "    .dataframe tbody tr th {\n",
       "        vertical-align: top;\n",
       "    }\n",
       "\n",
       "    .dataframe thead th {\n",
       "        text-align: right;\n",
       "    }\n",
       "</style>\n",
       "<table border=\"1\" class=\"dataframe\">\n",
       "  <thead>\n",
       "    <tr style=\"text-align: right;\">\n",
       "      <th></th>\n",
       "      <th>patient_dob</th>\n",
       "      <th>patient_diabetic</th>\n",
       "      <th>patient_allergic</th>\n",
       "      <th>patient_weight_kg</th>\n",
       "      <th>patient_height_sm</th>\n",
       "      <th>appointment_date</th>\n",
       "      <th>patient_show</th>\n",
       "      <th>is_regular_visit</th>\n",
       "      <th>diagnosis_int</th>\n",
       "      <th>patient_gender_int</th>\n",
       "    </tr>\n",
       "  </thead>\n",
       "  <tbody>\n",
       "    <tr>\n",
       "      <th>0</th>\n",
       "      <td>2018-10-18</td>\n",
       "      <td>0</td>\n",
       "      <td>1</td>\n",
       "      <td>59</td>\n",
       "      <td>176</td>\n",
       "      <td>2018-05-01</td>\n",
       "      <td>1</td>\n",
       "      <td>1</td>\n",
       "      <td>391</td>\n",
       "      <td>0</td>\n",
       "    </tr>\n",
       "    <tr>\n",
       "      <th>1</th>\n",
       "      <td>2018-02-08</td>\n",
       "      <td>0</td>\n",
       "      <td>1</td>\n",
       "      <td>77</td>\n",
       "      <td>186</td>\n",
       "      <td>2017-12-07</td>\n",
       "      <td>1</td>\n",
       "      <td>1</td>\n",
       "      <td>371</td>\n",
       "      <td>0</td>\n",
       "    </tr>\n",
       "    <tr>\n",
       "      <th>2</th>\n",
       "      <td>2018-10-09</td>\n",
       "      <td>1</td>\n",
       "      <td>1</td>\n",
       "      <td>90</td>\n",
       "      <td>177</td>\n",
       "      <td>2018-10-05</td>\n",
       "      <td>0</td>\n",
       "      <td>0</td>\n",
       "      <td>371</td>\n",
       "      <td>0</td>\n",
       "    </tr>\n",
       "    <tr>\n",
       "      <th>3</th>\n",
       "      <td>2018-09-10</td>\n",
       "      <td>1</td>\n",
       "      <td>1</td>\n",
       "      <td>70</td>\n",
       "      <td>150</td>\n",
       "      <td>2018-10-21</td>\n",
       "      <td>0</td>\n",
       "      <td>1</td>\n",
       "      <td>371</td>\n",
       "      <td>1</td>\n",
       "    </tr>\n",
       "    <tr>\n",
       "      <th>4</th>\n",
       "      <td>2018-02-26</td>\n",
       "      <td>0</td>\n",
       "      <td>1</td>\n",
       "      <td>82</td>\n",
       "      <td>140</td>\n",
       "      <td>2018-11-15</td>\n",
       "      <td>0</td>\n",
       "      <td>0</td>\n",
       "      <td>371</td>\n",
       "      <td>0</td>\n",
       "    </tr>\n",
       "  </tbody>\n",
       "</table>\n",
       "</div>"
      ],
      "text/plain": [
       "  patient_dob  patient_diabetic  patient_allergic  patient_weight_kg  \\\n",
       "0  2018-10-18                 0                 1                 59   \n",
       "1  2018-02-08                 0                 1                 77   \n",
       "2  2018-10-09                 1                 1                 90   \n",
       "3  2018-09-10                 1                 1                 70   \n",
       "4  2018-02-26                 0                 1                 82   \n",
       "\n",
       "   patient_height_sm appointment_date  patient_show  is_regular_visit  \\\n",
       "0                176       2018-05-01             1                 1   \n",
       "1                186       2017-12-07             1                 1   \n",
       "2                177       2018-10-05             0                 0   \n",
       "3                150       2018-10-21             0                 1   \n",
       "4                140       2018-11-15             0                 0   \n",
       "\n",
       "   diagnosis_int  patient_gender_int  \n",
       "0            391                   0  \n",
       "1            371                   0  \n",
       "2            371                   0  \n",
       "3            371                   1  \n",
       "4            371                   0  "
      ]
     },
     "execution_count": 99,
     "metadata": {},
     "output_type": "execute_result"
    }
   ],
   "source": [
    "# Your code here:\n",
    "patients.head()"
   ]
  },
  {
   "cell_type": "markdown",
   "metadata": {},
   "source": [
    "An interesting observation is that all patients are no older than 2 years. However, their weights and heights indicate that they are adults. This cannot be true. Therefore, we can either trust the weight and height columns or the DOB column. Since there are other columns that indicate that these are adults (they have emails, some have diabetes) we will drop the `patient_dob` column. We will also drop the `appointment_date` column since it has too many unique values to transform to a dummy variable. Drop the two columns in the cell below."
   ]
  },
  {
   "cell_type": "code",
   "execution_count": 100,
   "metadata": {},
   "outputs": [],
   "source": [
    "# Your code here:\n",
    "patients.drop(['patient_dob','appointment_date'],axis=1,inplace=True)"
   ]
  },
  {
   "cell_type": "markdown",
   "metadata": {},
   "source": [
    "#### Our data is now ready for clustering. Let's use k-means again.\n",
    "\n",
    "We start by initializing and fitting a model in the cell below. Call this model patients_cluster."
   ]
  },
  {
   "cell_type": "code",
   "execution_count": 105,
   "metadata": {},
   "outputs": [
    {
     "data": {
      "text/plain": [
       "KMeans(algorithm='auto', copy_x=True, init='k-means++', max_iter=300,\n",
       "    n_clusters=4, n_init=10, n_jobs=None, precompute_distances='auto',\n",
       "    random_state=None, tol=0.0001, verbose=0)"
      ]
     },
     "execution_count": 105,
     "metadata": {},
     "output_type": "execute_result"
    }
   ],
   "source": [
    "# Your code here:\n",
    "patients_cluster = KMeans(n_clusters=4)\n",
    "patients_cluster.fit(patients)"
   ]
  },
  {
   "cell_type": "markdown",
   "metadata": {},
   "source": [
    "Attach the labels to the dataframe. Do this by accessing the `labels_` in the `patients_cluster` model and assign them to a new column in `patients` that you will call `labels`."
   ]
  },
  {
   "cell_type": "code",
   "execution_count": 106,
   "metadata": {},
   "outputs": [],
   "source": [
    "# Your code here:\n",
    "patients['label'] = (patients_cluster.labels_)"
   ]
  },
  {
   "cell_type": "markdown",
   "metadata": {},
   "source": [
    "Now using a `groupby`, find the mean of every variable in `patients` and group by the `labels` column. This summary will allow us to see how the patients differ between the clusters. Your output should look similar to the image below.\n",
    "\n",
    "![groupby mean](../groupby-mean.png)\n",
    "\n",
    "Additionally, add a comment to describe which columns have the largest difference between clusters."
   ]
  },
  {
   "cell_type": "code",
   "execution_count": 107,
   "metadata": {},
   "outputs": [
    {
     "data": {
      "text/html": [
       "<div>\n",
       "<style scoped>\n",
       "    .dataframe tbody tr th:only-of-type {\n",
       "        vertical-align: middle;\n",
       "    }\n",
       "\n",
       "    .dataframe tbody tr th {\n",
       "        vertical-align: top;\n",
       "    }\n",
       "\n",
       "    .dataframe thead th {\n",
       "        text-align: right;\n",
       "    }\n",
       "</style>\n",
       "<table border=\"1\" class=\"dataframe\">\n",
       "  <thead>\n",
       "    <tr style=\"text-align: right;\">\n",
       "      <th></th>\n",
       "      <th>patient_diabetic</th>\n",
       "      <th>patient_allergic</th>\n",
       "      <th>patient_weight_kg</th>\n",
       "      <th>patient_height_sm</th>\n",
       "      <th>patient_show</th>\n",
       "      <th>is_regular_visit</th>\n",
       "      <th>diagnosis_int</th>\n",
       "      <th>patient_gender_int</th>\n",
       "    </tr>\n",
       "    <tr>\n",
       "      <th>label</th>\n",
       "      <th></th>\n",
       "      <th></th>\n",
       "      <th></th>\n",
       "      <th></th>\n",
       "      <th></th>\n",
       "      <th></th>\n",
       "      <th></th>\n",
       "      <th></th>\n",
       "    </tr>\n",
       "  </thead>\n",
       "  <tbody>\n",
       "    <tr>\n",
       "      <th>0</th>\n",
       "      <td>0.503650</td>\n",
       "      <td>0.503650</td>\n",
       "      <td>78.313869</td>\n",
       "      <td>166.270073</td>\n",
       "      <td>0.562044</td>\n",
       "      <td>0.540146</td>\n",
       "      <td>262.277372</td>\n",
       "      <td>0.452555</td>\n",
       "    </tr>\n",
       "    <tr>\n",
       "      <th>1</th>\n",
       "      <td>0.531250</td>\n",
       "      <td>0.578125</td>\n",
       "      <td>82.640625</td>\n",
       "      <td>163.867188</td>\n",
       "      <td>0.500000</td>\n",
       "      <td>0.562500</td>\n",
       "      <td>157.750000</td>\n",
       "      <td>0.531250</td>\n",
       "    </tr>\n",
       "    <tr>\n",
       "      <th>2</th>\n",
       "      <td>0.589928</td>\n",
       "      <td>0.510791</td>\n",
       "      <td>81.978417</td>\n",
       "      <td>165.597122</td>\n",
       "      <td>0.510791</td>\n",
       "      <td>0.460432</td>\n",
       "      <td>49.330935</td>\n",
       "      <td>0.546763</td>\n",
       "    </tr>\n",
       "    <tr>\n",
       "      <th>3</th>\n",
       "      <td>0.492565</td>\n",
       "      <td>0.494424</td>\n",
       "      <td>79.141264</td>\n",
       "      <td>166.351301</td>\n",
       "      <td>0.472119</td>\n",
       "      <td>0.524164</td>\n",
       "      <td>368.585502</td>\n",
       "      <td>0.483271</td>\n",
       "    </tr>\n",
       "  </tbody>\n",
       "</table>\n",
       "</div>"
      ],
      "text/plain": [
       "       patient_diabetic  patient_allergic  patient_weight_kg  \\\n",
       "label                                                          \n",
       "0              0.503650          0.503650          78.313869   \n",
       "1              0.531250          0.578125          82.640625   \n",
       "2              0.589928          0.510791          81.978417   \n",
       "3              0.492565          0.494424          79.141264   \n",
       "\n",
       "       patient_height_sm  patient_show  is_regular_visit  diagnosis_int  \\\n",
       "label                                                                     \n",
       "0             166.270073      0.562044          0.540146     262.277372   \n",
       "1             163.867188      0.500000          0.562500     157.750000   \n",
       "2             165.597122      0.510791          0.460432      49.330935   \n",
       "3             166.351301      0.472119          0.524164     368.585502   \n",
       "\n",
       "       patient_gender_int  \n",
       "label                      \n",
       "0                0.452555  \n",
       "1                0.531250  \n",
       "2                0.546763  \n",
       "3                0.483271  "
      ]
     },
     "execution_count": 107,
     "metadata": {},
     "output_type": "execute_result"
    }
   ],
   "source": [
    "# Your code here:\n",
    "patients.groupby('label').mean()"
   ]
  },
  {
   "cell_type": "code",
   "execution_count": 108,
   "metadata": {},
   "outputs": [],
   "source": [
    "# Your comment here:\n",
    "# we can see a clearly difference in the variation by cluster for the diagnosis_int column"
   ]
  },
  {
   "cell_type": "markdown",
   "metadata": {},
   "source": [
    "# Bonus Challenge: Visualize K-Means Clusters\n",
    "\n",
    "How did k-means cluster the data? You can obtain an intuitive view with a scatter plot. Generate a 2-d cluster plot below using `matplotlib`. You need to choose 2 of the features from your cleaned and transformed dataset, and use color to represent the cluster label generated from k-means.\n",
    "\n",
    "If the scatter plot does not make any sense to you, it means the features you chose to visualize are not the right ones. You should be able to see 4 clear clusters with different colors in your visualization that suggests how k-means had clustered your data.\n",
    "\n",
    "![Cluster Visualization](../clusters.png)"
   ]
  },
  {
   "cell_type": "code",
   "execution_count": 146,
   "metadata": {},
   "outputs": [
    {
     "data": {
      "text/plain": [
       "<matplotlib.collections.PathCollection at 0x1a2bbde860>"
      ]
     },
     "execution_count": 146,
     "metadata": {},
     "output_type": "execute_result"
    },
    {
     "data": {
      "image/png": "[encoded data removed]",
      "text/plain": [
       "<Figure size 432x288 with 1 Axes>"
      ]
     },
     "metadata": {
      "needs_background": "light"
     },
     "output_type": "display_data"
    }
   ],
   "source": [
    "# Your code here:\n",
    "list_colors = {'0':'#1f77b4','1':'#ff7f0e','2':'#2ca02c','3':'#d62728'}\n",
    "colors = [list_colors[str(label)] for label in patients.label]\n",
    "plt.scatter(patients.diagnosis_int,patients.patient_weight_kg,c=colors)"
   ]
  },
  {
   "cell_type": "markdown",
   "metadata": {},
   "source": [
    "Additionally, you can visualize the clusters in 3-D scatter plot. Give it a try below."
   ]
  },
  {
   "cell_type": "code",
   "execution_count": 144,
   "metadata": {},
   "outputs": [
    {
     "data": {
      "text/plain": [
       "<mpl_toolkits.mplot3d.art3d.Path3DCollection at 0x1a2a273a90>"
      ]
     },
     "execution_count": 144,
     "metadata": {},
     "output_type": "execute_result"
    },
    {
     "data": {
      "image/png": "[encoded data removed]",
      "text/plain": [
       "<Figure size 432x288 with 1 Axes>"
      ]
     },
     "metadata": {
      "needs_background": "light"
     },
     "output_type": "display_data"
    }
   ],
   "source": [
    "# Your code here:\n",
    "from mpl_toolkits.mplot3d import Axes3D\n",
    "fig = plt.figure()\n",
    "ax = fig.add_subplot(111, projection='3d')\n",
    "plt.scatter(patients.diagnosis_int,patients.patient_weight_kg,patients.patient_height_sm,c = colors)"
   ]
  },
  {
   "cell_type": "code",
   "execution_count": null,
   "metadata": {},
   "outputs": [],
   "source": []
  }
 ],
 "metadata": {
  "kernelspec": {
   "display_name": "Python 3",
   "language": "python",
   "name": "python3"
  },
  "language_info": {
   "codemirror_mode": {
    "name": "ipython",
    "version": 3
   },
   "file_extension": ".py",
   "mimetype": "text/x-python",
   "name": "python",
   "nbconvert_exporter": "python",
   "pygments_lexer": "ipython3",
   "version": "3.7.3"
  }
 },
 "nbformat": 4,
 "nbformat_minor": 2
}
