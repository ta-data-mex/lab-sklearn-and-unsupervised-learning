{
  "nbformat": 4,
  "nbformat_minor": 0,
  "metadata": {
    "kernelspec": {
      "display_name": "Python 3",
      "language": "python",
      "name": "python3"
    },
    "language_info": {
      "codemirror_mode": {
        "name": "ipython",
        "version": 3
      },
      "file_extension": ".py",
      "mimetype": "text/x-python",
      "name": "python",
      "nbconvert_exporter": "python",
      "pygments_lexer": "ipython3",
      "version": "3.7.1"
    },
    "colab": {
      "name": "lab-sklearn-and-unsupervised-learning Copy of main .ipynb",
      "provenance": []
    }
  },
  "cells": [
    {
      "cell_type": "markdown",
      "metadata": {
        "id": "-V5HTmbFL_Ps"
      },
      "source": [
        "# Before your start:\n",
        "- Read the README.md file\n",
        "- Comment as much as you can and use the resources in the README.md file\n",
        "- Happy learning!\n"
      ]
    },
    {
      "cell_type": "code",
      "metadata": {
        "id": "T_RKMEw9L_Ps"
      },
      "source": [
        "#Import your libraries\n",
        "import pandas as pd\n",
        "import numpy as np\n",
        "\n",
        "import matplotlib.pyplot as plt\n",
        "import seaborn as sns\n",
        "\n",
        "from sklearn.cluster import KMeans, DBSCAN\n",
        "from sklearn.neighbors import NearestNeighbors\n"
      ],
      "execution_count": null,
      "outputs": []
    },
    {
      "cell_type": "code",
      "metadata": {
        "colab": {
          "base_uri": "https://localhost:8080/"
        },
        "id": "l3dm3lXBMPQ1",
        "outputId": "d5156281-060b-4c70-8579-ff4620cff40c"
      },
      "source": [
        "from google.colab import drive\n",
        "drive.mount('/content/drive/')"
      ],
      "execution_count": null,
      "outputs": [
        {
          "output_type": "stream",
          "text": [
            "Mounted at /content/drive/\n"
          ],
          "name": "stdout"
        }
      ]
    },
    {
      "cell_type": "code",
      "metadata": {
        "id": "Txx2_IUOMY7m"
      },
      "source": [
        "patients = pd.read_csv('/content/drive/MyDrive/Ironhack/CSV files/patient-admission-dataset-for-learning-data-mining.csv')"
      ],
      "execution_count": null,
      "outputs": []
    },
    {
      "cell_type": "markdown",
      "metadata": {
        "id": "Xo6VpSlAL_Pt"
      },
      "source": [
        "# Challenge 1 -  Explore the Internal Dataset\n",
        "\n",
        "In this lab, we will start off by working with the wine dataset in scikit-learn. We will select the wine dataset and use a clustering algorithm to learn more about the functionalities of this library. \n",
        "\n",
        "We start off by loading the dataset using the `load_wine` function ([documentation](https://scikit-learn.org/stable/modules/generated/sklearn.datasets.load_wine.html)). In the cell below, we will import the function from scikit-learn."
      ]
    },
    {
      "cell_type": "code",
      "metadata": {
        "id": "HJ_x9RJyL_Pt"
      },
      "source": [
        "from sklearn.datasets import load_wine"
      ],
      "execution_count": null,
      "outputs": []
    },
    {
      "cell_type": "markdown",
      "metadata": {
        "id": "VinqI9FwL_Pt"
      },
      "source": [
        "In the cell below, use the `load_wine` function and assign the wine dataset to a variable called `wine`."
      ]
    },
    {
      "cell_type": "code",
      "metadata": {
        "colab": {
          "base_uri": "https://localhost:8080/"
        },
        "id": "5PHxHjIIOC9F",
        "outputId": "2f7145bb-cfae-45e4-cfdd-378fa86738b1"
      },
      "source": [
        ""
      ],
      "execution_count": null,
      "outputs": [
        {
          "output_type": "execute_result",
          "data": {
            "text/plain": [
              "<function sklearn.datasets._base.load_wine>"
            ]
          },
          "metadata": {
            "tags": []
          },
          "execution_count": 6
        }
      ]
    },
    {
      "cell_type": "code",
      "metadata": {
        "id": "2nmZYktyL_Pt"
      },
      "source": [
        "# Your code here:\n",
        "wine = load_wine()"
      ],
      "execution_count": null,
      "outputs": []
    },
    {
      "cell_type": "code",
      "metadata": {
        "colab": {
          "base_uri": "https://localhost:8080/"
        },
        "id": "nTGZwaHqOerK",
        "outputId": "3b1e10e0-317b-4fda-e865-0da8cd2e499d"
      },
      "source": [
        "wine"
      ],
      "execution_count": null,
      "outputs": [
        {
          "output_type": "execute_result",
          "data": {
            "text/plain": [
              "{'DESCR': '.. _wine_dataset:\\n\\nWine recognition dataset\\n------------------------\\n\\n**Data Set Characteristics:**\\n\\n    :Number of Instances: 178 (50 in each of three classes)\\n    :Number of Attributes: 13 numeric, predictive attributes and the class\\n    :Attribute Information:\\n \\t\\t- Alcohol\\n \\t\\t- Malic acid\\n \\t\\t- Ash\\n\\t\\t- Alcalinity of ash  \\n \\t\\t- Magnesium\\n\\t\\t- Total phenols\\n \\t\\t- Flavanoids\\n \\t\\t- Nonflavanoid phenols\\n \\t\\t- Proanthocyanins\\n\\t\\t- Color intensity\\n \\t\\t- Hue\\n \\t\\t- OD280/OD315 of diluted wines\\n \\t\\t- Proline\\n\\n    - class:\\n            - class_0\\n            - class_1\\n            - class_2\\n\\t\\t\\n    :Summary Statistics:\\n    \\n    ============================= ==== ===== ======= =====\\n                                   Min   Max   Mean     SD\\n    ============================= ==== ===== ======= =====\\n    Alcohol:                      11.0  14.8    13.0   0.8\\n    Malic Acid:                   0.74  5.80    2.34  1.12\\n    Ash:                          1.36  3.23    2.36  0.27\\n    Alcalinity of Ash:            10.6  30.0    19.5   3.3\\n    Magnesium:                    70.0 162.0    99.7  14.3\\n    Total Phenols:                0.98  3.88    2.29  0.63\\n    Flavanoids:                   0.34  5.08    2.03  1.00\\n    Nonflavanoid Phenols:         0.13  0.66    0.36  0.12\\n    Proanthocyanins:              0.41  3.58    1.59  0.57\\n    Colour Intensity:              1.3  13.0     5.1   2.3\\n    Hue:                          0.48  1.71    0.96  0.23\\n    OD280/OD315 of diluted wines: 1.27  4.00    2.61  0.71\\n    Proline:                       278  1680     746   315\\n    ============================= ==== ===== ======= =====\\n\\n    :Missing Attribute Values: None\\n    :Class Distribution: class_0 (59), class_1 (71), class_2 (48)\\n    :Creator: R.A. Fisher\\n    :Donor: Michael Marshall (MARSHALL%PLU@io.arc.nasa.gov)\\n    :Date: July, 1988\\n\\nThis is a copy of UCI ML Wine recognition datasets.\\nhttps://archive.ics.uci.edu/ml/machine-learning-databases/wine/wine.data\\n\\nThe data is the results of a chemical analysis of wines grown in the same\\nregion in Italy by three different cultivators. There are thirteen different\\nmeasurements taken for different constituents found in the three types of\\nwine.\\n\\nOriginal Owners: \\n\\nForina, M. et al, PARVUS - \\nAn Extendible Package for Data Exploration, Classification and Correlation. \\nInstitute of Pharmaceutical and Food Analysis and Technologies,\\nVia Brigata Salerno, 16147 Genoa, Italy.\\n\\nCitation:\\n\\nLichman, M. (2013). UCI Machine Learning Repository\\n[https://archive.ics.uci.edu/ml]. Irvine, CA: University of California,\\nSchool of Information and Computer Science. \\n\\n.. topic:: References\\n\\n  (1) S. Aeberhard, D. Coomans and O. de Vel, \\n  Comparison of Classifiers in High Dimensional Settings, \\n  Tech. Rep. no. 92-02, (1992), Dept. of Computer Science and Dept. of  \\n  Mathematics and Statistics, James Cook University of North Queensland. \\n  (Also submitted to Technometrics). \\n\\n  The data was used with many others for comparing various \\n  classifiers. The classes are separable, though only RDA \\n  has achieved 100% correct classification. \\n  (RDA : 100%, QDA 99.4%, LDA 98.9%, 1NN 96.1% (z-transformed data)) \\n  (All results using the leave-one-out technique) \\n\\n  (2) S. Aeberhard, D. Coomans and O. de Vel, \\n  \"THE CLASSIFICATION PERFORMANCE OF RDA\" \\n  Tech. Rep. no. 92-01, (1992), Dept. of Computer Science and Dept. of \\n  Mathematics and Statistics, James Cook University of North Queensland. \\n  (Also submitted to Journal of Chemometrics).\\n',\n",
              " 'data': array([[1.423e+01, 1.710e+00, 2.430e+00, ..., 1.040e+00, 3.920e+00,\n",
              "         1.065e+03],\n",
              "        [1.320e+01, 1.780e+00, 2.140e+00, ..., 1.050e+00, 3.400e+00,\n",
              "         1.050e+03],\n",
              "        [1.316e+01, 2.360e+00, 2.670e+00, ..., 1.030e+00, 3.170e+00,\n",
              "         1.185e+03],\n",
              "        ...,\n",
              "        [1.327e+01, 4.280e+00, 2.260e+00, ..., 5.900e-01, 1.560e+00,\n",
              "         8.350e+02],\n",
              "        [1.317e+01, 2.590e+00, 2.370e+00, ..., 6.000e-01, 1.620e+00,\n",
              "         8.400e+02],\n",
              "        [1.413e+01, 4.100e+00, 2.740e+00, ..., 6.100e-01, 1.600e+00,\n",
              "         5.600e+02]]),\n",
              " 'feature_names': ['alcohol',\n",
              "  'malic_acid',\n",
              "  'ash',\n",
              "  'alcalinity_of_ash',\n",
              "  'magnesium',\n",
              "  'total_phenols',\n",
              "  'flavanoids',\n",
              "  'nonflavanoid_phenols',\n",
              "  'proanthocyanins',\n",
              "  'color_intensity',\n",
              "  'hue',\n",
              "  'od280/od315_of_diluted_wines',\n",
              "  'proline'],\n",
              " 'target': array([0, 0, 0, 0, 0, 0, 0, 0, 0, 0, 0, 0, 0, 0, 0, 0, 0, 0, 0, 0, 0, 0,\n",
              "        0, 0, 0, 0, 0, 0, 0, 0, 0, 0, 0, 0, 0, 0, 0, 0, 0, 0, 0, 0, 0, 0,\n",
              "        0, 0, 0, 0, 0, 0, 0, 0, 0, 0, 0, 0, 0, 0, 0, 1, 1, 1, 1, 1, 1, 1,\n",
              "        1, 1, 1, 1, 1, 1, 1, 1, 1, 1, 1, 1, 1, 1, 1, 1, 1, 1, 1, 1, 1, 1,\n",
              "        1, 1, 1, 1, 1, 1, 1, 1, 1, 1, 1, 1, 1, 1, 1, 1, 1, 1, 1, 1, 1, 1,\n",
              "        1, 1, 1, 1, 1, 1, 1, 1, 1, 1, 1, 1, 1, 1, 1, 1, 1, 1, 1, 1, 2, 2,\n",
              "        2, 2, 2, 2, 2, 2, 2, 2, 2, 2, 2, 2, 2, 2, 2, 2, 2, 2, 2, 2, 2, 2,\n",
              "        2, 2, 2, 2, 2, 2, 2, 2, 2, 2, 2, 2, 2, 2, 2, 2, 2, 2, 2, 2, 2, 2,\n",
              "        2, 2]),\n",
              " 'target_names': array(['class_0', 'class_1', 'class_2'], dtype='<U7')}"
            ]
          },
          "metadata": {
            "tags": []
          },
          "execution_count": 17
        }
      ]
    },
    {
      "cell_type": "markdown",
      "metadata": {
        "id": "sg1WmgOOL_Pu"
      },
      "source": [
        "In the next step, list the keys of the variable `wine` to examine its contents. Note that the `load_wine` function does not return dataframes. It returns you a Python dictionary."
      ]
    },
    {
      "cell_type": "code",
      "metadata": {
        "id": "jXtctD9sL_Pu",
        "colab": {
          "base_uri": "https://localhost:8080/"
        },
        "outputId": "c0cbe1da-4e30-4831-8b2d-130d267a106c"
      },
      "source": [
        "# Your code here:\n",
        "wine.keys()"
      ],
      "execution_count": null,
      "outputs": [
        {
          "output_type": "execute_result",
          "data": {
            "text/plain": [
              "dict_keys(['data', 'target', 'target_names', 'DESCR', 'feature_names'])"
            ]
          },
          "metadata": {
            "tags": []
          },
          "execution_count": 19
        }
      ]
    },
    {
      "cell_type": "markdown",
      "metadata": {
        "id": "3ke1Z7g7L_Pu"
      },
      "source": [
        "Next, list the feature names. These are the different characteristics of the wine. "
      ]
    },
    {
      "cell_type": "code",
      "metadata": {
        "id": "4FMa7K3UL_Pu",
        "colab": {
          "base_uri": "https://localhost:8080/"
        },
        "outputId": "83146ffb-00f7-4060-85d4-cca2a43f9aee"
      },
      "source": [
        "# Your code here:\n",
        "wine.feature_names"
      ],
      "execution_count": null,
      "outputs": [
        {
          "output_type": "execute_result",
          "data": {
            "text/plain": [
              "['alcohol',\n",
              " 'malic_acid',\n",
              " 'ash',\n",
              " 'alcalinity_of_ash',\n",
              " 'magnesium',\n",
              " 'total_phenols',\n",
              " 'flavanoids',\n",
              " 'nonflavanoid_phenols',\n",
              " 'proanthocyanins',\n",
              " 'color_intensity',\n",
              " 'hue',\n",
              " 'od280/od315_of_diluted_wines',\n",
              " 'proline']"
            ]
          },
          "metadata": {
            "tags": []
          },
          "execution_count": 21
        }
      ]
    },
    {
      "cell_type": "markdown",
      "metadata": {
        "id": "iXLVCZdxL_Pv"
      },
      "source": [
        "Print the description of the dataset in the cell below using the `DESCR` attribute of the `wine` variable.\n",
        "\n",
        "*Hint: If your output is ill-formatted by displaying linebreaks as `\\n`, it means you are not using the print function.*"
      ]
    },
    {
      "cell_type": "code",
      "metadata": {
        "id": "gbyPQvCoL_Pv",
        "colab": {
          "base_uri": "https://localhost:8080/"
        },
        "outputId": "32a1faa8-bee0-4072-cb94-9ad300b971e7"
      },
      "source": [
        "# Your code here:\n",
        "print(wine['DESCR'])"
      ],
      "execution_count": null,
      "outputs": [
        {
          "output_type": "stream",
          "text": [
            ".. _wine_dataset:\n",
            "\n",
            "Wine recognition dataset\n",
            "------------------------\n",
            "\n",
            "**Data Set Characteristics:**\n",
            "\n",
            "    :Number of Instances: 178 (50 in each of three classes)\n",
            "    :Number of Attributes: 13 numeric, predictive attributes and the class\n",
            "    :Attribute Information:\n",
            " \t\t- Alcohol\n",
            " \t\t- Malic acid\n",
            " \t\t- Ash\n",
            "\t\t- Alcalinity of ash  \n",
            " \t\t- Magnesium\n",
            "\t\t- Total phenols\n",
            " \t\t- Flavanoids\n",
            " \t\t- Nonflavanoid phenols\n",
            " \t\t- Proanthocyanins\n",
            "\t\t- Color intensity\n",
            " \t\t- Hue\n",
            " \t\t- OD280/OD315 of diluted wines\n",
            " \t\t- Proline\n",
            "\n",
            "    - class:\n",
            "            - class_0\n",
            "            - class_1\n",
            "            - class_2\n",
            "\t\t\n",
            "    :Summary Statistics:\n",
            "    \n",
            "    ============================= ==== ===== ======= =====\n",
            "                                   Min   Max   Mean     SD\n",
            "    ============================= ==== ===== ======= =====\n",
            "    Alcohol:                      11.0  14.8    13.0   0.8\n",
            "    Malic Acid:                   0.74  5.80    2.34  1.12\n",
            "    Ash:                          1.36  3.23    2.36  0.27\n",
            "    Alcalinity of Ash:            10.6  30.0    19.5   3.3\n",
            "    Magnesium:                    70.0 162.0    99.7  14.3\n",
            "    Total Phenols:                0.98  3.88    2.29  0.63\n",
            "    Flavanoids:                   0.34  5.08    2.03  1.00\n",
            "    Nonflavanoid Phenols:         0.13  0.66    0.36  0.12\n",
            "    Proanthocyanins:              0.41  3.58    1.59  0.57\n",
            "    Colour Intensity:              1.3  13.0     5.1   2.3\n",
            "    Hue:                          0.48  1.71    0.96  0.23\n",
            "    OD280/OD315 of diluted wines: 1.27  4.00    2.61  0.71\n",
            "    Proline:                       278  1680     746   315\n",
            "    ============================= ==== ===== ======= =====\n",
            "\n",
            "    :Missing Attribute Values: None\n",
            "    :Class Distribution: class_0 (59), class_1 (71), class_2 (48)\n",
            "    :Creator: R.A. Fisher\n",
            "    :Donor: Michael Marshall (MARSHALL%PLU@io.arc.nasa.gov)\n",
            "    :Date: July, 1988\n",
            "\n",
            "This is a copy of UCI ML Wine recognition datasets.\n",
            "https://archive.ics.uci.edu/ml/machine-learning-databases/wine/wine.data\n",
            "\n",
            "The data is the results of a chemical analysis of wines grown in the same\n",
            "region in Italy by three different cultivators. There are thirteen different\n",
            "measurements taken for different constituents found in the three types of\n",
            "wine.\n",
            "\n",
            "Original Owners: \n",
            "\n",
            "Forina, M. et al, PARVUS - \n",
            "An Extendible Package for Data Exploration, Classification and Correlation. \n",
            "Institute of Pharmaceutical and Food Analysis and Technologies,\n",
            "Via Brigata Salerno, 16147 Genoa, Italy.\n",
            "\n",
            "Citation:\n",
            "\n",
            "Lichman, M. (2013). UCI Machine Learning Repository\n",
            "[https://archive.ics.uci.edu/ml]. Irvine, CA: University of California,\n",
            "School of Information and Computer Science. \n",
            "\n",
            ".. topic:: References\n",
            "\n",
            "  (1) S. Aeberhard, D. Coomans and O. de Vel, \n",
            "  Comparison of Classifiers in High Dimensional Settings, \n",
            "  Tech. Rep. no. 92-02, (1992), Dept. of Computer Science and Dept. of  \n",
            "  Mathematics and Statistics, James Cook University of North Queensland. \n",
            "  (Also submitted to Technometrics). \n",
            "\n",
            "  The data was used with many others for comparing various \n",
            "  classifiers. The classes are separable, though only RDA \n",
            "  has achieved 100% correct classification. \n",
            "  (RDA : 100%, QDA 99.4%, LDA 98.9%, 1NN 96.1% (z-transformed data)) \n",
            "  (All results using the leave-one-out technique) \n",
            "\n",
            "  (2) S. Aeberhard, D. Coomans and O. de Vel, \n",
            "  \"THE CLASSIFICATION PERFORMANCE OF RDA\" \n",
            "  Tech. Rep. no. 92-01, (1992), Dept. of Computer Science and Dept. of \n",
            "  Mathematics and Statistics, James Cook University of North Queensland. \n",
            "  (Also submitted to Journal of Chemometrics).\n",
            "\n"
          ],
          "name": "stdout"
        }
      ]
    },
    {
      "cell_type": "markdown",
      "metadata": {
        "id": "aS210bXQL_Pv"
      },
      "source": [
        "#### From the description, we see that all columns are numeric. We also know that there is no missing data \n",
        "\n",
        "Let's plot the alcohol content histogram. Recall that we are working with a numpy array and will need to use a matplotlib function to produce a histogram. "
      ]
    },
    {
      "cell_type": "code",
      "metadata": {
        "id": "Ph2Sbt6UL_Pv",
        "colab": {
          "base_uri": "https://localhost:8080/",
          "height": 181
        },
        "outputId": "751f9734-d0a3-419d-cdc8-86638067bad5"
      },
      "source": [
        "# imports\n"
      ],
      "execution_count": null,
      "outputs": [
        {
          "output_type": "error",
          "ename": "KeyError",
          "evalue": "ignored",
          "traceback": [
            "\u001b[0;31m---------------------------------------------------------------------------\u001b[0m",
            "\u001b[0;31mKeyError\u001b[0m                                  Traceback (most recent call last)",
            "\u001b[0;32m<ipython-input-28-d4fd64d21c32>\u001b[0m in \u001b[0;36m<module>\u001b[0;34m()\u001b[0m\n\u001b[1;32m      1\u001b[0m \u001b[0;31m# imports\u001b[0m\u001b[0;34m\u001b[0m\u001b[0;34m\u001b[0m\u001b[0;34m\u001b[0m\u001b[0m\n\u001b[0;32m----> 2\u001b[0;31m \u001b[0mwine\u001b[0m\u001b[0;34m[\u001b[0m\u001b[0;34m'Alcohol'\u001b[0m\u001b[0;34m]\u001b[0m\u001b[0;34m\u001b[0m\u001b[0;34m\u001b[0m\u001b[0m\n\u001b[0m",
            "\u001b[0;31mKeyError\u001b[0m: 'Alcohol'"
          ]
        }
      ]
    },
    {
      "cell_type": "code",
      "metadata": {
        "id": "z6rr7ueZL_Pw",
        "colab": {
          "base_uri": "https://localhost:8080/",
          "height": 350
        },
        "outputId": "58f7cea5-c220-4a01-d9d0-5ef066151a1a"
      },
      "source": [
        "# Your code here:\n",
        "plt.hist(wine.data[0])"
      ],
      "execution_count": null,
      "outputs": [
        {
          "output_type": "execute_result",
          "data": {
            "text/plain": [
              "(array([11.,  1.,  0.,  0.,  0.,  0.,  0.,  0.,  0.,  1.]),\n",
              " array([2.80000e-01, 1.06752e+02, 2.13224e+02, 3.19696e+02, 4.26168e+02,\n",
              "        5.32640e+02, 6.39112e+02, 7.45584e+02, 8.52056e+02, 9.58528e+02,\n",
              "        1.06500e+03]),\n",
              " <a list of 10 Patch objects>)"
            ]
          },
          "metadata": {
            "tags": []
          },
          "execution_count": 30
        },
        {
          "output_type": "display_data",
          "data": {
            "image/png": "[encoded data removed]",
            "text/plain": [
              "<Figure size 432x288 with 1 Axes>"
            ]
          },
          "metadata": {
            "tags": [],
            "needs_background": "light"
          }
        }
      ]
    },
    {
      "cell_type": "markdown",
      "metadata": {
        "id": "iFM5XicfL_Pw"
      },
      "source": [
        "# Challenge 2 - Clustering the Internal Dataset\n",
        "\n",
        "In this portion of the lab, we will cluster the data to find common traits between the different wines. We will use the k-means clustering algorithm to achieve this goal.\n",
        "\n",
        "#### We start by importing k-means from scikit-learn and then proceed to create 4 clusters."
      ]
    },
    {
      "cell_type": "code",
      "metadata": {
        "id": "1EaLWoMwL_Pw"
      },
      "source": [
        "# imports\n"
      ],
      "execution_count": null,
      "outputs": []
    },
    {
      "cell_type": "code",
      "metadata": {
        "id": "cSDOC-29L_Px"
      },
      "source": [
        "# Your code here:\n",
        "model = KMeans(n_clusters=4).fit(wine.data)"
      ],
      "execution_count": null,
      "outputs": []
    },
    {
      "cell_type": "markdown",
      "metadata": {
        "id": "w9pTvtxKL_Px"
      },
      "source": [
        "#### Print the cluster labels."
      ]
    },
    {
      "cell_type": "code",
      "metadata": {
        "id": "xFrg9ThML_Px",
        "colab": {
          "base_uri": "https://localhost:8080/"
        },
        "outputId": "7fb9e11a-acce-4005-da21-4f177dfc8174"
      },
      "source": [
        "# Your code here:\n",
        "print(model.labels_)"
      ],
      "execution_count": null,
      "outputs": [
        {
          "output_type": "stream",
          "text": [
            "[3 3 1 1 2 1 1 1 3 3 1 1 1 3 1 1 1 3 1 2 2 2 3 3 2 2 1 1 3 3 1 1 3 1 3 3 3\n",
            " 3 3 2 2 3 3 2 3 3 3 3 3 1 3 1 1 1 3 3 3 1 1 0 2 0 2 0 0 2 0 0 2 2 3 0 0 3\n",
            " 3 0 0 0 2 0 0 2 2 0 0 0 0 0 2 2 0 0 0 0 0 3 2 0 2 0 2 0 0 0 2 0 0 0 0 2 0\n",
            " 0 2 0 0 0 0 0 0 0 2 0 0 0 0 0 0 0 0 2 2 0 0 2 2 2 2 0 2 2 2 2 0 0 2 2 0 2\n",
            " 2 0 0 0 0 2 2 2 0 3 2 2 0 2 0 2 2 0 2 2 2 2 0 0 2 2 2 2 2 0]\n"
          ],
          "name": "stdout"
        }
      ]
    },
    {
      "cell_type": "markdown",
      "metadata": {
        "id": "rVm7t5L5L_Px"
      },
      "source": [
        "#### Compute the size of each cluster. This can be done by counting the number of occurrences of each unique label in the list above.\n",
        "\n",
        "Which is the largest cluster of the 4?"
      ]
    },
    {
      "cell_type": "code",
      "metadata": {
        "id": "jUR6u6BOL_Px"
      },
      "source": [
        "# Your code here:\n"
      ],
      "execution_count": null,
      "outputs": []
    },
    {
      "cell_type": "code",
      "metadata": {
        "id": "vk-jgBT9L_Py",
        "colab": {
          "base_uri": "https://localhost:8080/"
        },
        "outputId": "8b4637fa-8d6e-4b1a-8ca7-7ee8c0519244"
      },
      "source": [
        "# Your answer here:\n",
        "counts = np.unique(model.labels_, return_counts=True)\n",
        "counts"
      ],
      "execution_count": null,
      "outputs": [
        {
          "output_type": "execute_result",
          "data": {
            "text/plain": [
              "(array([0, 1, 2, 3], dtype=int32), array([66, 23, 57, 32]))"
            ]
          },
          "metadata": {
            "tags": []
          },
          "execution_count": 44
        }
      ]
    },
    {
      "cell_type": "markdown",
      "metadata": {
        "id": "f7pneKuDL_Py"
      },
      "source": [
        "#### Inspect the shape of `wine['data']`"
      ]
    },
    {
      "cell_type": "code",
      "metadata": {
        "id": "CvbSNkGgL_Py",
        "colab": {
          "base_uri": "https://localhost:8080/"
        },
        "outputId": "2d47408d-27d1-4777-e070-6d9fabad7553"
      },
      "source": [
        "# Your code here:\n",
        "wine['data'].shape"
      ],
      "execution_count": null,
      "outputs": [
        {
          "output_type": "execute_result",
          "data": {
            "text/plain": [
              "(178, 13)"
            ]
          },
          "metadata": {
            "tags": []
          },
          "execution_count": 34
        }
      ]
    },
    {
      "cell_type": "markdown",
      "metadata": {
        "id": "BII6N8lVL_Py"
      },
      "source": [
        "#### Inspect the first 5 records in `wine['data']`"
      ]
    },
    {
      "cell_type": "code",
      "metadata": {
        "id": "2-Pmg9VeL_Py",
        "colab": {
          "base_uri": "https://localhost:8080/"
        },
        "outputId": "0d32bec9-15c1-4fea-bd23-7c4a2dab2360"
      },
      "source": [
        "# Your code here:\n",
        "wine['data'][:5]"
      ],
      "execution_count": null,
      "outputs": [
        {
          "output_type": "execute_result",
          "data": {
            "text/plain": [
              "array([[1.423e+01, 1.710e+00, 2.430e+00, 1.560e+01, 1.270e+02, 2.800e+00,\n",
              "        3.060e+00, 2.800e-01, 2.290e+00, 5.640e+00, 1.040e+00, 3.920e+00,\n",
              "        1.065e+03],\n",
              "       [1.320e+01, 1.780e+00, 2.140e+00, 1.120e+01, 1.000e+02, 2.650e+00,\n",
              "        2.760e+00, 2.600e-01, 1.280e+00, 4.380e+00, 1.050e+00, 3.400e+00,\n",
              "        1.050e+03],\n",
              "       [1.316e+01, 2.360e+00, 2.670e+00, 1.860e+01, 1.010e+02, 2.800e+00,\n",
              "        3.240e+00, 3.000e-01, 2.810e+00, 5.680e+00, 1.030e+00, 3.170e+00,\n",
              "        1.185e+03],\n",
              "       [1.437e+01, 1.950e+00, 2.500e+00, 1.680e+01, 1.130e+02, 3.850e+00,\n",
              "        3.490e+00, 2.400e-01, 2.180e+00, 7.800e+00, 8.600e-01, 3.450e+00,\n",
              "        1.480e+03],\n",
              "       [1.324e+01, 2.590e+00, 2.870e+00, 2.100e+01, 1.180e+02, 2.800e+00,\n",
              "        2.690e+00, 3.900e-01, 1.820e+00, 4.320e+00, 1.040e+00, 2.930e+00,\n",
              "        7.350e+02]])"
            ]
          },
          "metadata": {
            "tags": []
          },
          "execution_count": 36
        }
      ]
    },
    {
      "cell_type": "markdown",
      "metadata": {
        "id": "hs2mFHVsL_Pz"
      },
      "source": [
        "You now know the data object is a 2-dimensional array in which there are 178 rows and 13 columns. Each row is a data record and each column is a feature.\n",
        "\n",
        "#### What is the average ash content for each cluster? \n",
        "\n",
        "*Hints:* \n",
        "\n",
        "* *Ash* is the 3rd column.\n",
        "\n",
        "* The data object is not a Pandas dataframe so you can't apply `pandas.DataFrame.groupby`. Instead, you can use `np.average`."
      ]
    },
    {
      "cell_type": "code",
      "metadata": {
        "id": "weXeiJWHL_Pz",
        "colab": {
          "base_uri": "https://localhost:8080/"
        },
        "outputId": "a32d6e42-5cb7-4dc9-882b-9d57e6231d16"
      },
      "source": [
        "# Your code here:\n",
        "#census.groupby(['cluster_kmeans_1']).agg({'Income': 'mean'})\n",
        "average = np.average(wine['data'][2])\n",
        "average"
      ],
      "execution_count": null,
      "outputs": [
        {
          "output_type": "execute_result",
          "data": {
            "text/plain": [
              "103.21692307692307"
            ]
          },
          "metadata": {
            "tags": []
          },
          "execution_count": 45
        }
      ]
    },
    {
      "cell_type": "markdown",
      "metadata": {
        "id": "W8okRcpoL_Pz"
      },
      "source": [
        "# Challenge 3 - Load and Explore an External Dataset\n",
        "\n",
        "We will now load an external dataset using Pandas and use scikit learn to explore the data. In this portion of the lab, we will use a [patient dataset from Kaggle](https://www.kaggle.com/miles99/patient-admission-dataset-for-learning-data-mining). "
      ]
    },
    {
      "cell_type": "code",
      "metadata": {
        "id": "Uf_b2ZUJL_P0"
      },
      "source": [
        "#patients = pd.read_csv('../patient-admission-dataset-for-learning-data-mining.csv')"
      ],
      "execution_count": null,
      "outputs": []
    },
    {
      "cell_type": "markdown",
      "metadata": {
        "id": "TYHCx6fgL_P0"
      },
      "source": [
        "In the next cell, print the first five rows of the data using the `head()` function."
      ]
    },
    {
      "cell_type": "code",
      "metadata": {
        "id": "wbEyHDPRL_P0",
        "colab": {
          "base_uri": "https://localhost:8080/",
          "height": 292
        },
        "outputId": "31025add-5c99-4dcb-8fab-dfe27776a8da"
      },
      "source": [
        "# Your code here:\n",
        "patients.head()"
      ],
      "execution_count": null,
      "outputs": [
        {
          "output_type": "execute_result",
          "data": {
            "text/html": [
              "<div>\n",
              "<style scoped>\n",
              "    .dataframe tbody tr th:only-of-type {\n",
              "        vertical-align: middle;\n",
              "    }\n",
              "\n",
              "    .dataframe tbody tr th {\n",
              "        vertical-align: top;\n",
              "    }\n",
              "\n",
              "    .dataframe thead th {\n",
              "        text-align: right;\n",
              "    }\n",
              "</style>\n",
              "<table border=\"1\" class=\"dataframe\">\n",
              "  <thead>\n",
              "    <tr style=\"text-align: right;\">\n",
              "      <th></th>\n",
              "      <th>id</th>\n",
              "      <th>patient_name</th>\n",
              "      <th>patient_email</th>\n",
              "      <th>doctor_phone</th>\n",
              "      <th>patient_gender</th>\n",
              "      <th>patient_dob</th>\n",
              "      <th>patient_diabetic</th>\n",
              "      <th>patient_allergic</th>\n",
              "      <th>patient_weight_kg</th>\n",
              "      <th>patient_height_sm</th>\n",
              "      <th>patient_nhs_number</th>\n",
              "      <th>doctor_name</th>\n",
              "      <th>appointment_date</th>\n",
              "      <th>patient_show</th>\n",
              "      <th>is_regular_visit</th>\n",
              "      <th>prescribed_medicines</th>\n",
              "      <th>diagnosis</th>\n",
              "    </tr>\n",
              "  </thead>\n",
              "  <tbody>\n",
              "    <tr>\n",
              "      <th>0</th>\n",
              "      <td>1</td>\n",
              "      <td>Celestyna Dillimore</td>\n",
              "      <td>cdillimore0@dion.ne.jp</td>\n",
              "      <td>674-914-1212</td>\n",
              "      <td>Female</td>\n",
              "      <td>10/18/2018</td>\n",
              "      <td>False</td>\n",
              "      <td>True</td>\n",
              "      <td>59</td>\n",
              "      <td>176</td>\n",
              "      <td>8.200152e+09</td>\n",
              "      <td>Sarena Waliszek</td>\n",
              "      <td>5/1/2018</td>\n",
              "      <td>True</td>\n",
              "      <td>True</td>\n",
              "      <td>triamcinolone acetonide</td>\n",
              "      <td>I669</td>\n",
              "    </tr>\n",
              "    <tr>\n",
              "      <th>1</th>\n",
              "      <td>2</td>\n",
              "      <td>Meta Michieli</td>\n",
              "      <td>mmichieli1@loc.gov</td>\n",
              "      <td>172-580-3586</td>\n",
              "      <td>Female</td>\n",
              "      <td>2/8/2018</td>\n",
              "      <td>False</td>\n",
              "      <td>True</td>\n",
              "      <td>77</td>\n",
              "      <td>186</td>\n",
              "      <td>NaN</td>\n",
              "      <td>Farris Robinet</td>\n",
              "      <td>12/7/2017</td>\n",
              "      <td>True</td>\n",
              "      <td>True</td>\n",
              "      <td>NaN</td>\n",
              "      <td>NaN</td>\n",
              "    </tr>\n",
              "    <tr>\n",
              "      <th>2</th>\n",
              "      <td>3</td>\n",
              "      <td>Cordie Sancto</td>\n",
              "      <td>csancto2@cafepress.com</td>\n",
              "      <td>794-222-5085</td>\n",
              "      <td>Female</td>\n",
              "      <td>10/9/2018</td>\n",
              "      <td>True</td>\n",
              "      <td>True</td>\n",
              "      <td>90</td>\n",
              "      <td>177</td>\n",
              "      <td>6.145594e+09</td>\n",
              "      <td>Kaspar Spitaro</td>\n",
              "      <td>10/5/2018</td>\n",
              "      <td>False</td>\n",
              "      <td>False</td>\n",
              "      <td>NaN</td>\n",
              "      <td>NaN</td>\n",
              "    </tr>\n",
              "    <tr>\n",
              "      <th>3</th>\n",
              "      <td>4</td>\n",
              "      <td>Josh De Ambrosis</td>\n",
              "      <td>jde3@amazon.co.jp</td>\n",
              "      <td>856-540-5195</td>\n",
              "      <td>Male</td>\n",
              "      <td>9/10/2018</td>\n",
              "      <td>True</td>\n",
              "      <td>True</td>\n",
              "      <td>70</td>\n",
              "      <td>150</td>\n",
              "      <td>NaN</td>\n",
              "      <td>Rafferty Fowls</td>\n",
              "      <td>10/21/2018</td>\n",
              "      <td>False</td>\n",
              "      <td>True</td>\n",
              "      <td>NaN</td>\n",
              "      <td>NaN</td>\n",
              "    </tr>\n",
              "    <tr>\n",
              "      <th>4</th>\n",
              "      <td>5</td>\n",
              "      <td>Delinda Alfonsini</td>\n",
              "      <td>dalfonsini4@opensource.org</td>\n",
              "      <td>938-978-1131</td>\n",
              "      <td>Female</td>\n",
              "      <td>2/26/2018</td>\n",
              "      <td>False</td>\n",
              "      <td>True</td>\n",
              "      <td>82</td>\n",
              "      <td>140</td>\n",
              "      <td>4.804758e+08</td>\n",
              "      <td>Glenna MacNeachtain</td>\n",
              "      <td>11/15/2018</td>\n",
              "      <td>False</td>\n",
              "      <td>False</td>\n",
              "      <td>NaN</td>\n",
              "      <td>NaN</td>\n",
              "    </tr>\n",
              "  </tbody>\n",
              "</table>\n",
              "</div>"
            ],
            "text/plain": [
              "   id         patient_name  ...     prescribed_medicines diagnosis\n",
              "0   1  Celestyna Dillimore  ...  triamcinolone acetonide      I669\n",
              "1   2        Meta Michieli  ...                      NaN       NaN\n",
              "2   3        Cordie Sancto  ...                      NaN       NaN\n",
              "3   4     Josh De Ambrosis  ...                      NaN       NaN\n",
              "4   5    Delinda Alfonsini  ...                      NaN       NaN\n",
              "\n",
              "[5 rows x 17 columns]"
            ]
          },
          "metadata": {
            "tags": []
          },
          "execution_count": 50
        }
      ]
    },
    {
      "cell_type": "markdown",
      "metadata": {
        "id": "h32f99p4L_P1"
      },
      "source": [
        "Next, print the column types and check which columns have been misclassified by pandas."
      ]
    },
    {
      "cell_type": "code",
      "metadata": {
        "id": "VQS1gurjL_P2",
        "colab": {
          "base_uri": "https://localhost:8080/"
        },
        "outputId": "79f88db3-41ce-48e4-f58b-e3526aa9735e"
      },
      "source": [
        "# Your code here:\n",
        "patients.info()"
      ],
      "execution_count": null,
      "outputs": [
        {
          "output_type": "stream",
          "text": [
            "<class 'pandas.core.frame.DataFrame'>\n",
            "RangeIndex: 1000 entries, 0 to 999\n",
            "Data columns (total 17 columns):\n",
            " #   Column                Non-Null Count  Dtype  \n",
            "---  ------                --------------  -----  \n",
            " 0   id                    1000 non-null   int64  \n",
            " 1   patient_name          1000 non-null   object \n",
            " 2   patient_email         1000 non-null   object \n",
            " 3   doctor_phone          1000 non-null   object \n",
            " 4   patient_gender        1000 non-null   object \n",
            " 5   patient_dob           1000 non-null   object \n",
            " 6   patient_diabetic      1000 non-null   bool   \n",
            " 7   patient_allergic      1000 non-null   bool   \n",
            " 8   patient_weight_kg     1000 non-null   int64  \n",
            " 9   patient_height_sm     1000 non-null   int64  \n",
            " 10  patient_nhs_number    796 non-null    float64\n",
            " 11  doctor_name           942 non-null    object \n",
            " 12  appointment_date      1000 non-null   object \n",
            " 13  patient_show          1000 non-null   bool   \n",
            " 14  is_regular_visit      1000 non-null   bool   \n",
            " 15  prescribed_medicines  512 non-null    object \n",
            " 16  diagnosis             512 non-null    object \n",
            "dtypes: bool(4), float64(1), int64(3), object(9)\n",
            "memory usage: 105.6+ KB\n"
          ],
          "name": "stdout"
        }
      ]
    },
    {
      "cell_type": "markdown",
      "metadata": {
        "id": "ftx8mMsuL_P3"
      },
      "source": [
        "#### We can see that none of the date columns have been correctly classified. Also, some columns contain qualitative data that can be dropped.\n",
        "\n",
        "First, transform the `patient_dob` and `appointment_date` columns to datetime using the `pd.to_datetime` function."
      ]
    },
    {
      "cell_type": "code",
      "metadata": {
        "id": "CH9GPJ9oL_P5"
      },
      "source": [
        "# Your code here:\n",
        "patients['patient_dob'] = pd.to_datetime(patients['patient_dob'])"
      ],
      "execution_count": null,
      "outputs": []
    },
    {
      "cell_type": "code",
      "metadata": {
        "id": "W0YJoJjxeBts"
      },
      "source": [
        "patients['appointment_date'] = pd.to_datetime(patients['appointment_date'])"
      ],
      "execution_count": null,
      "outputs": []
    },
    {
      "cell_type": "code",
      "metadata": {
        "colab": {
          "base_uri": "https://localhost:8080/"
        },
        "id": "BGFNdpOveI2U",
        "outputId": "f5d12768-639e-4478-b4c7-ae2c9eec995d"
      },
      "source": [
        "patients.info()"
      ],
      "execution_count": null,
      "outputs": [
        {
          "output_type": "stream",
          "text": [
            "<class 'pandas.core.frame.DataFrame'>\n",
            "RangeIndex: 1000 entries, 0 to 999\n",
            "Data columns (total 17 columns):\n",
            " #   Column                Non-Null Count  Dtype         \n",
            "---  ------                --------------  -----         \n",
            " 0   id                    1000 non-null   int64         \n",
            " 1   patient_name          1000 non-null   object        \n",
            " 2   patient_email         1000 non-null   object        \n",
            " 3   doctor_phone          1000 non-null   object        \n",
            " 4   patient_gender        1000 non-null   object        \n",
            " 5   patient_dob           1000 non-null   datetime64[ns]\n",
            " 6   patient_diabetic      1000 non-null   bool          \n",
            " 7   patient_allergic      1000 non-null   bool          \n",
            " 8   patient_weight_kg     1000 non-null   int64         \n",
            " 9   patient_height_sm     1000 non-null   int64         \n",
            " 10  patient_nhs_number    796 non-null    float64       \n",
            " 11  doctor_name           942 non-null    object        \n",
            " 12  appointment_date      1000 non-null   datetime64[ns]\n",
            " 13  patient_show          1000 non-null   bool          \n",
            " 14  is_regular_visit      1000 non-null   bool          \n",
            " 15  prescribed_medicines  512 non-null    object        \n",
            " 16  diagnosis             512 non-null    object        \n",
            "dtypes: bool(4), datetime64[ns](2), float64(1), int64(3), object(7)\n",
            "memory usage: 105.6+ KB\n"
          ],
          "name": "stdout"
        }
      ]
    },
    {
      "cell_type": "markdown",
      "metadata": {
        "id": "7S7iFI6oL_P5"
      },
      "source": [
        "Next, drop the `id`, `patient_name`, `patient_email`, `patient_nhs_number`, and `doctor_phone` columns. These are not quantitative columns and will not contribute to our analysis."
      ]
    },
    {
      "cell_type": "code",
      "metadata": {
        "id": "n0CLTY7FL_P5"
      },
      "source": [
        "# Your code here:\n",
        "patients = patients.drop(columns=['id', 'patient_name', 'patient_email', 'patient_nhs_number',  'doctor_phone'])"
      ],
      "execution_count": null,
      "outputs": []
    },
    {
      "cell_type": "code",
      "metadata": {
        "colab": {
          "base_uri": "https://localhost:8080/"
        },
        "id": "1gWXUVM6eYNu",
        "outputId": "04469e79-1be7-4dc9-e3d0-eb4d37038509"
      },
      "source": [
        "patients.info()"
      ],
      "execution_count": null,
      "outputs": [
        {
          "output_type": "stream",
          "text": [
            "<class 'pandas.core.frame.DataFrame'>\n",
            "RangeIndex: 1000 entries, 0 to 999\n",
            "Data columns (total 12 columns):\n",
            " #   Column                Non-Null Count  Dtype         \n",
            "---  ------                --------------  -----         \n",
            " 0   patient_gender        1000 non-null   object        \n",
            " 1   patient_dob           1000 non-null   datetime64[ns]\n",
            " 2   patient_diabetic      1000 non-null   bool          \n",
            " 3   patient_allergic      1000 non-null   bool          \n",
            " 4   patient_weight_kg     1000 non-null   int64         \n",
            " 5   patient_height_sm     1000 non-null   int64         \n",
            " 6   doctor_name           942 non-null    object        \n",
            " 7   appointment_date      1000 non-null   datetime64[ns]\n",
            " 8   patient_show          1000 non-null   bool          \n",
            " 9   is_regular_visit      1000 non-null   bool          \n",
            " 10  prescribed_medicines  512 non-null    object        \n",
            " 11  diagnosis             512 non-null    object        \n",
            "dtypes: bool(4), datetime64[ns](2), int64(2), object(4)\n",
            "memory usage: 66.5+ KB\n"
          ],
          "name": "stdout"
        }
      ]
    },
    {
      "cell_type": "markdown",
      "metadata": {
        "id": "JLWth02WL_P6"
      },
      "source": [
        "Now we work on the missing data. Most ML algorithms will not perform as intended if there are missing data.\n",
        "\n",
        "In the cell below, count how many rows contain missing data in each column. You should see three columns contain missing data:\n",
        "\n",
        "* `doctor_name`: 58 missing data\n",
        "* `prescribed_medicines`: 488 missing data\n",
        "* `diagnosis`: 488 missing data"
      ]
    },
    {
      "cell_type": "code",
      "metadata": {
        "colab": {
          "base_uri": "https://localhost:8080/"
        },
        "id": "Y42JRDv8efbC",
        "outputId": "ee022cde-6cff-45c6-e77b-a13194e5a1eb"
      },
      "source": [
        "patients.isnull().sum()"
      ],
      "execution_count": null,
      "outputs": [
        {
          "output_type": "execute_result",
          "data": {
            "text/plain": [
              "patient_gender            0\n",
              "patient_dob               0\n",
              "patient_diabetic          0\n",
              "patient_allergic          0\n",
              "patient_weight_kg         0\n",
              "patient_height_sm         0\n",
              "doctor_name              58\n",
              "appointment_date          0\n",
              "patient_show              0\n",
              "is_regular_visit          0\n",
              "prescribed_medicines    488\n",
              "diagnosis               488\n",
              "dtype: int64"
            ]
          },
          "metadata": {
            "tags": []
          },
          "execution_count": 57
        }
      ]
    },
    {
      "cell_type": "markdown",
      "metadata": {
        "id": "i1gyflwDL_P6"
      },
      "source": [
        "The main issues are found in the `prescribed_medicines` and `diagnosis` columns. Can we simply drop these rows?\n",
        "\n",
        "The answer is not yet. Because when there are missing data in these columns, it doesn't mean the data records are broken. Instead, it means no medication was prescribed and no diagnosis was recorded. Therefore, once we fill in the missing data these columns will be fine. But we'll revisit these columns and decide whether we will eventually drop them when we look at how many unique values are there in these categorical columns.  \n",
        "\n",
        "For the `prescribed_medicines` column, fill the missing values with the value `no prescription`. For the `diagnosis` column, fill the missing values with `no diagnosis`.\n",
        "\n",
        "*Hint: Use [`pandas.DataFrame.fillna`](https://pandas.pydata.org/pandas-docs/stable/generated/pandas.DataFrame.fillna.html).*"
      ]
    },
    {
      "cell_type": "code",
      "metadata": {
        "id": "En4pEPaBL_P6"
      },
      "source": [
        "# Your code here:\n",
        "patients['prescribed_medicines'] = patients['prescribed_medicines'].fillna('no prescription')"
      ],
      "execution_count": null,
      "outputs": []
    },
    {
      "cell_type": "code",
      "metadata": {
        "id": "vlPDY10JfOIH"
      },
      "source": [
        "patients['prescribed_medicines'] = patients['prescribed_medicines'].fillna('no diagnosis')"
      ],
      "execution_count": null,
      "outputs": []
    },
    {
      "cell_type": "markdown",
      "metadata": {
        "id": "EfuAPmSoL_P6"
      },
      "source": [
        "How about `doctor_name`? Since a doctor visit without a doctor name might not be meaningful, we will drop these rows."
      ]
    },
    {
      "cell_type": "code",
      "metadata": {
        "colab": {
          "base_uri": "https://localhost:8080/"
        },
        "id": "biTgTgozfdGh",
        "outputId": "7001376a-ca6c-4035-aa96-e4aee5c07fc2"
      },
      "source": [
        "patients.isnull().sum()"
      ],
      "execution_count": null,
      "outputs": [
        {
          "output_type": "execute_result",
          "data": {
            "text/plain": [
              "patient_gender            0\n",
              "patient_dob               0\n",
              "patient_diabetic          0\n",
              "patient_allergic          0\n",
              "patient_weight_kg         0\n",
              "patient_height_sm         0\n",
              "doctor_name              58\n",
              "appointment_date          0\n",
              "patient_show              0\n",
              "is_regular_visit          0\n",
              "prescribed_medicines      0\n",
              "diagnosis               488\n",
              "dtype: int64"
            ]
          },
          "metadata": {
            "tags": []
          },
          "execution_count": 63
        }
      ]
    },
    {
      "cell_type": "code",
      "metadata": {
        "id": "IzYEeWQWL_P7"
      },
      "source": [
        "# Your code here:\n",
        "patients = patients.dropna()"
      ],
      "execution_count": null,
      "outputs": []
    },
    {
      "cell_type": "code",
      "metadata": {
        "colab": {
          "base_uri": "https://localhost:8080/"
        },
        "id": "7yMIBcRakK5o",
        "outputId": "d47f572b-26eb-4b72-d1e6-e143ec824bfe"
      },
      "source": [
        "patients.isnull().sum()"
      ],
      "execution_count": null,
      "outputs": [
        {
          "output_type": "execute_result",
          "data": {
            "text/plain": [
              "patient_gender          0\n",
              "patient_dob             0\n",
              "patient_diabetic        0\n",
              "patient_allergic        0\n",
              "patient_weight_kg       0\n",
              "patient_height_sm       0\n",
              "doctor_name             0\n",
              "appointment_date        0\n",
              "patient_show            0\n",
              "is_regular_visit        0\n",
              "prescribed_medicines    0\n",
              "diagnosis               0\n",
              "dtype: int64"
            ]
          },
          "metadata": {
            "tags": []
          },
          "execution_count": 65
        }
      ]
    },
    {
      "cell_type": "markdown",
      "metadata": {
        "id": "nFU2UFOBL_P7"
      },
      "source": [
        "#### Another step in preprocessing that can be performed by scikit-learn is label encoding. \n",
        "\n",
        "We have 4 columns that are of `bool` type. We would like to convert them to an integer column containing either zero or one. We can do this using [scikit-learn's label encoder](https://scikit-learn.org/stable/modules/generated/sklearn.preprocessing.LabelEncoder.html).\n",
        "\n",
        "In the cell below, import the label encoder and encode the 4 boolean columns (*patient_diabetic*, *patient_allergic*, *patient_show*, *is_regular_visit*) with `0` and `1`. "
      ]
    },
    {
      "cell_type": "code",
      "metadata": {
        "colab": {
          "base_uri": "https://localhost:8080/"
        },
        "id": "5EaIQJ0gkrd0",
        "outputId": "e8fe8e4c-cce6-49b3-b17e-3e7497d1deac"
      },
      "source": [
        "patients.info()"
      ],
      "execution_count": null,
      "outputs": [
        {
          "output_type": "stream",
          "text": [
            "<class 'pandas.core.frame.DataFrame'>\n",
            "Int64Index: 485 entries, 0 to 999\n",
            "Data columns (total 12 columns):\n",
            " #   Column                Non-Null Count  Dtype         \n",
            "---  ------                --------------  -----         \n",
            " 0   patient_gender        485 non-null    object        \n",
            " 1   patient_dob           485 non-null    datetime64[ns]\n",
            " 2   patient_diabetic      485 non-null    bool          \n",
            " 3   patient_allergic      485 non-null    bool          \n",
            " 4   patient_weight_kg     485 non-null    int64         \n",
            " 5   patient_height_sm     485 non-null    int64         \n",
            " 6   doctor_name           485 non-null    object        \n",
            " 7   appointment_date      485 non-null    datetime64[ns]\n",
            " 8   patient_show          485 non-null    bool          \n",
            " 9   is_regular_visit      485 non-null    bool          \n",
            " 10  prescribed_medicines  485 non-null    object        \n",
            " 11  diagnosis             485 non-null    object        \n",
            "dtypes: bool(4), datetime64[ns](2), int64(2), object(4)\n",
            "memory usage: 36.0+ KB\n"
          ],
          "name": "stdout"
        }
      ]
    },
    {
      "cell_type": "code",
      "metadata": {
        "id": "E3HBXsvQl3W7"
      },
      "source": [
        "from sklearn import preprocessing\n",
        "from sklearn.preprocessing import LabelEncoder"
      ],
      "execution_count": null,
      "outputs": []
    },
    {
      "cell_type": "code",
      "metadata": {
        "id": "Rzf4FmjTL_P7",
        "colab": {
          "base_uri": "https://localhost:8080/"
        },
        "outputId": "11880e58-0842-4010-a1d2-7c645bcf65cb"
      },
      "source": [
        "# Your code here:\n",
        "#le = preprocessing.LabelEncoder()\n",
        "#patients['patient_diabetic'] = le.fit(['patient_diabetic', 'patient_allergic', 'patient_show', 'is_regular_visit'])\n",
        "label_encoder = LabelEncoder()\n",
        "label_encoder.fit([True,False])"
      ],
      "execution_count": null,
      "outputs": [
        {
          "output_type": "execute_result",
          "data": {
            "text/plain": [
              "LabelEncoder()"
            ]
          },
          "metadata": {
            "tags": []
          },
          "execution_count": 72
        }
      ]
    },
    {
      "cell_type": "code",
      "metadata": {
        "id": "TvMHynuNmhLB"
      },
      "source": [
        "patients_copy = patients.copy(deep=True)\n",
        "columns_bool = ['patient_diabetic', 'patient_allergic', 'patient_show', 'is_regular_visit']\n",
        "\n",
        "for col in columns_bool:\n",
        "    patients_copy[col]=label_encoder.transform(patients[col])"
      ],
      "execution_count": null,
      "outputs": []
    },
    {
      "cell_type": "code",
      "metadata": {
        "colab": {
          "base_uri": "https://localhost:8080/"
        },
        "id": "dGOfi2J2npUn",
        "outputId": "cb4bb7ca-3b75-45c9-995c-e96b2e7af1e2"
      },
      "source": [
        "patients_copy.info()"
      ],
      "execution_count": null,
      "outputs": [
        {
          "output_type": "stream",
          "text": [
            "<class 'pandas.core.frame.DataFrame'>\n",
            "Int64Index: 485 entries, 0 to 999\n",
            "Data columns (total 12 columns):\n",
            " #   Column                Non-Null Count  Dtype         \n",
            "---  ------                --------------  -----         \n",
            " 0   patient_gender        485 non-null    object        \n",
            " 1   patient_dob           485 non-null    datetime64[ns]\n",
            " 2   patient_diabetic      485 non-null    int64         \n",
            " 3   patient_allergic      485 non-null    int64         \n",
            " 4   patient_weight_kg     485 non-null    int64         \n",
            " 5   patient_height_sm     485 non-null    int64         \n",
            " 6   doctor_name           485 non-null    object        \n",
            " 7   appointment_date      485 non-null    datetime64[ns]\n",
            " 8   patient_show          485 non-null    int64         \n",
            " 9   is_regular_visit      485 non-null    int64         \n",
            " 10  prescribed_medicines  485 non-null    object        \n",
            " 11  diagnosis             485 non-null    object        \n",
            "dtypes: datetime64[ns](2), int64(6), object(4)\n",
            "memory usage: 49.3+ KB\n"
          ],
          "name": "stdout"
        }
      ]
    },
    {
      "cell_type": "markdown",
      "metadata": {
        "id": "FjpVebyiL_P7"
      },
      "source": [
        "Print the data dtypes to confirm those four `bool` columns are converted to `int64`."
      ]
    },
    {
      "cell_type": "code",
      "metadata": {
        "id": "77-FGjVPL_P8",
        "colab": {
          "base_uri": "https://localhost:8080/"
        },
        "outputId": "c82ee337-cfda-47f6-d969-cc6b1fe2684a"
      },
      "source": [
        "# Your code here:\n",
        "print(patients_copy.dtypes)"
      ],
      "execution_count": null,
      "outputs": [
        {
          "output_type": "stream",
          "text": [
            "patient_gender                  object\n",
            "patient_dob             datetime64[ns]\n",
            "patient_diabetic                 int64\n",
            "patient_allergic                 int64\n",
            "patient_weight_kg                int64\n",
            "patient_height_sm                int64\n",
            "doctor_name                     object\n",
            "appointment_date        datetime64[ns]\n",
            "patient_show                     int64\n",
            "is_regular_visit                 int64\n",
            "prescribed_medicines            object\n",
            "diagnosis                       object\n",
            "dtype: object\n"
          ],
          "name": "stdout"
        }
      ]
    },
    {
      "cell_type": "markdown",
      "metadata": {
        "id": "VPHTHszyL_P8"
      },
      "source": [
        "#### The last step is to handle the `object` data.\n",
        "\n",
        "There are 4 `object` columns now: `patient_gender`, `doctor_name`, `prescribed_medicines`, and `diagnosis`. The gender columns\n",
        "\n",
        "In the next cell, check the unique values of each of the `object` columns using `value_counts()`."
      ]
    },
    {
      "cell_type": "code",
      "metadata": {
        "scrolled": false,
        "id": "O-vRE78AL_P8",
        "colab": {
          "base_uri": "https://localhost:8080/"
        },
        "outputId": "2b97efe9-234c-4a81-b651-e1af50490278"
      },
      "source": [
        "# Your code here:\n",
        "patients_copy['patient_gender'].value_counts()"
      ],
      "execution_count": null,
      "outputs": [
        {
          "output_type": "execute_result",
          "data": {
            "text/plain": [
              "Male      246\n",
              "Female    239\n",
              "Name: patient_gender, dtype: int64"
            ]
          },
          "metadata": {
            "tags": []
          },
          "execution_count": 86
        }
      ]
    },
    {
      "cell_type": "code",
      "metadata": {
        "colab": {
          "base_uri": "https://localhost:8080/"
        },
        "id": "m8u7isDioETD",
        "outputId": "3c139921-031b-4c95-e38d-3e3d8fc20a6b"
      },
      "source": [
        "patients_copy['doctor_name'].value_counts()"
      ],
      "execution_count": null,
      "outputs": [
        {
          "output_type": "execute_result",
          "data": {
            "text/plain": [
              "Sarena Waliszek           37\n",
              "Jilly McGrill             33\n",
              "Carly SperaJillie Katt    31\n",
              "Farris Robinet            28\n",
              "Wyn Grassett              28\n",
              "Rafferty Fowls            28\n",
              "Flossy Canlin             27\n",
              "Gabie Brafield            27\n",
              "Cissy Markey              27\n",
              "Madelina Scurrell         26\n",
              "Glenna MacNeachtain       25\n",
              "Kaspar Spitaro            24\n",
              "Ryley Swallow             23\n",
              "Dulce McKerley            23\n",
              "Humfried Cartmel          22\n",
              "Rouvin McKinstry          21\n",
              "Hermina Domeny            20\n",
              "Nerte Elmer               18\n",
              "Oralie Swaffer            17\n",
              "Name: doctor_name, dtype: int64"
            ]
          },
          "metadata": {
            "tags": []
          },
          "execution_count": 87
        }
      ]
    },
    {
      "cell_type": "code",
      "metadata": {
        "colab": {
          "base_uri": "https://localhost:8080/"
        },
        "id": "wYSWOQsQoF0c",
        "outputId": "e926a91d-a8ba-4956-b54b-be7b89a6a1c0"
      },
      "source": [
        "patients_copy['prescribed_medicines'].value_counts()"
      ],
      "execution_count": null,
      "outputs": [
        {
          "output_type": "execute_result",
          "data": {
            "text/plain": [
              "ALCOHOL                                     8\n",
              "Ibuprofen                                   6\n",
              "Triclosan                                   5\n",
              "Acetaminophen                               5\n",
              "Aluminum Zirconium Tetrachlorohydrex GLY    4\n",
              "                                           ..\n",
              "benzocaine                                  1\n",
              "PETROLATUM                                  1\n",
              "moexipril hydrochloride                     1\n",
              "Carelessweed                                1\n",
              "LYTTA VESICATORIA                           1\n",
              "Name: prescribed_medicines, Length: 394, dtype: int64"
            ]
          },
          "metadata": {
            "tags": []
          },
          "execution_count": 88
        }
      ]
    },
    {
      "cell_type": "code",
      "metadata": {
        "colab": {
          "base_uri": "https://localhost:8080/"
        },
        "id": "cqWDBsRLoGLE",
        "outputId": "a5467e6e-e52c-46f4-a111-466058917b75"
      },
      "source": [
        "patients_copy['diagnosis'].value_counts()"
      ],
      "execution_count": null,
      "outputs": [
        {
          "output_type": "execute_result",
          "data": {
            "text/plain": [
              "T2169      2\n",
              "T84192S    1\n",
              "M24474     1\n",
              "T475X6A    1\n",
              "T6306      1\n",
              "          ..\n",
              "S42333G    1\n",
              "M205X      1\n",
              "T65893S    1\n",
              "S31101D    1\n",
              "V877       1\n",
              "Name: diagnosis, Length: 484, dtype: int64"
            ]
          },
          "metadata": {
            "tags": []
          },
          "execution_count": 84
        }
      ]
    },
    {
      "cell_type": "markdown",
      "metadata": {
        "id": "6vaKvY--L_P8"
      },
      "source": [
        "#### The number of unique values is large for all three columns except `patient_gender`. We will handle these columns differently.\n",
        "\n",
        "For `diagnosis`, there are too many unique values which will make ML difficult. However, we can re-encode the values to either with or without diagnosis. Remember at an earlier step we filled in the missing values of this column with *no diagnosis*? We can re-encode *no diagnosis* to `0` and all other values to `1`. In this way we can tremendously simply this column.\n",
        "\n",
        "For `prescribed_medicines`, we can drop this column because it is perfectly correlated with `diagnosis`. Whenever there is no diagnosis, there is no prescribed medicine. So we don't need to keep this duplicated data.\n",
        "\n",
        "How about `doctor_name`? There are not excessive unique values but still quite many (19). We may either drop or keep it but keeping it will make the analysis more complicated. So due to the length of this lab let's drop it.\n",
        "\n",
        "How about `gender`? This one is easy. Just like re-encoding the boolean values, we can re-encode gender to `0` and `1` because there are only 2 unique values.\n",
        "\n",
        "In the next cells, do the following:\n",
        "\n",
        "1. Create a new column called `diagnosis_int` that has `0` and `1` based on the values in `diagnosis`.\n",
        "\n",
        "1. Create a new column called `patient_gender_int` that has `0` and `1` based on the values in `patient_gender`.\n",
        "\n",
        "1. Drop the following columns: `doctor_name`, `diagnosis`, `prescribed_medicines`, and `patient_gender`."
      ]
    },
    {
      "cell_type": "code",
      "metadata": {
        "id": "H6GPjHO2L_P8"
      },
      "source": [
        "# Your code here:\n",
        "patients_copy['diagnosis_int'] = "
      ],
      "execution_count": null,
      "outputs": []
    },
    {
      "cell_type": "markdown",
      "metadata": {
        "id": "aW02kqgwL_P8"
      },
      "source": [
        "Let's look at the head again to ensure the re-encoding and dropping are successful:"
      ]
    },
    {
      "cell_type": "code",
      "metadata": {
        "id": "KXyA_RKoL_P8"
      },
      "source": [
        "# Your code here:\n"
      ],
      "execution_count": null,
      "outputs": []
    },
    {
      "cell_type": "markdown",
      "metadata": {
        "id": "JSDkzgAfL_P8"
      },
      "source": [
        "An interesting observation is that all patients are no older than 2 years. However, their weights and heights indicate that they are adults. This cannot be true. Therefore, we can either trust the weight and height columns or the DOB column. Since there are other columns that indicate that these are adults (they have emails, some have diabetes) we will drop the `patient_dob` column. We will also drop the `appointment_date` column since it has too many unique values to transform to a dummy variable. Drop the two columns in the cell below."
      ]
    },
    {
      "cell_type": "code",
      "metadata": {
        "id": "9ZgdN0cUL_P8"
      },
      "source": [
        "# Your code here:\n"
      ],
      "execution_count": null,
      "outputs": []
    },
    {
      "cell_type": "markdown",
      "metadata": {
        "id": "9phNV3wmL_P8"
      },
      "source": [
        "#### Our data is now ready for clustering. Let's use k-means again.\n",
        "\n",
        "We start by initializing and fitting a model in the cell below. Call this model patients_cluster."
      ]
    },
    {
      "cell_type": "code",
      "metadata": {
        "id": "t0s8YMwwL_P8"
      },
      "source": [
        "# Your code here:\n"
      ],
      "execution_count": null,
      "outputs": []
    },
    {
      "cell_type": "markdown",
      "metadata": {
        "id": "TnZm1Od8L_P8"
      },
      "source": [
        "Attach the labels to the dataframe. Do this by accessing the `labels_` in the `patients_cluster` model and assign them to a new column in `patients` that you will call `labels`."
      ]
    },
    {
      "cell_type": "code",
      "metadata": {
        "id": "Mspwwmo3L_P8"
      },
      "source": [
        "# Your code here:\n"
      ],
      "execution_count": null,
      "outputs": []
    },
    {
      "cell_type": "markdown",
      "metadata": {
        "id": "WQWPROSpL_P8"
      },
      "source": [
        "Now using a `groupby`, find the mean of every variable in `patients` and group by the `labels` column. This summary will allow us to see how the patients differ between the clusters. Your output should look similar to the image below.\n",
        "\n",
        "![groupby mean](https://github.com/edwardsanchez001/lab-sklearn-and-unsupervised-learning/blob/master/groupby-mean.png?raw=1)\n",
        "\n",
        "Additionally, add a comment to describe which columns have the largest difference between clusters."
      ]
    },
    {
      "cell_type": "code",
      "metadata": {
        "id": "C6q_WQfgL_P9"
      },
      "source": [
        "# Your code here:\n"
      ],
      "execution_count": null,
      "outputs": []
    },
    {
      "cell_type": "code",
      "metadata": {
        "id": "LTFNahXwL_P9"
      },
      "source": [
        "# Your comment here:\n"
      ],
      "execution_count": null,
      "outputs": []
    },
    {
      "cell_type": "markdown",
      "metadata": {
        "id": "iHmkkqQcL_P9"
      },
      "source": [
        "# Bonus Challenge: Visualize K-Means Clusters\n",
        "\n",
        "How did k-means cluster the data? You can obtain an intuitive view with a scatter plot. Generate a 2-d cluster plot below using `matplotlib`. You need to choose 2 of the features from your cleaned and transformed dataset, and use color to represent the cluster label generated from k-means.\n",
        "\n",
        "If the scatter plot does not make any sense to you, it means the features you chose to visualize are not the right ones. You should be able to see 4 clear clusters with different colors in your visualization that suggests how k-means had clustered your data.\n",
        "\n",
        "![Cluster Visualization](https://github.com/edwardsanchez001/lab-sklearn-and-unsupervised-learning/blob/master/clusters.png?raw=1)"
      ]
    },
    {
      "cell_type": "code",
      "metadata": {
        "id": "HMrBEKSxL_P9"
      },
      "source": [
        "# Your code here:\n"
      ],
      "execution_count": null,
      "outputs": []
    },
    {
      "cell_type": "markdown",
      "metadata": {
        "id": "mg7Uhw7QL_P9"
      },
      "source": [
        "Additionally, you can visualize the clusters in 3-D scatter plot. Give it a try below."
      ]
    },
    {
      "cell_type": "code",
      "metadata": {
        "id": "nsWuME0fL_P9"
      },
      "source": [
        "# Your code here:\n"
      ],
      "execution_count": null,
      "outputs": []
    }
  ]
}